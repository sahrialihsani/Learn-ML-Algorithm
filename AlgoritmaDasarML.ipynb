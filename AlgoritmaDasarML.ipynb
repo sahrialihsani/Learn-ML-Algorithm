{
  "nbformat": 4,
  "nbformat_minor": 0,
  "metadata": {
    "colab": {
      "name": "AlgoritmaDasarML.ipynb",
      "provenance": [],
      "collapsed_sections": [
        "xYRBbLhQaaxo",
        "lRqZykmrahLf",
        "sh7svndEVmwq",
        "qYFsBB-YfrmA",
        "ovfq8d0DUatj"
      ],
      "toc_visible": true
    },
    "kernelspec": {
      "name": "python3",
      "display_name": "Python 3"
    },
    "language_info": {
      "name": "python"
    }
  },
  "cells": [
    {
      "cell_type": "markdown",
      "metadata": {
        "id": "-TMrvI2eZs3x"
      },
      "source": [
        "# Linear Regression\n",
        "\n",
        "Regresi linier adalah salah satu metode supervised yang masuk dalam golongan regression, sesuai namanya. Contoh paling terkenal dari regresi linier adalah memperkirakan harga rumah berdasarkan fitur yang terdapat pada rumah seperti luas rumah, jumlah kamar tidur, lokasi dan sebagainya. Ini adalah model paling sederhana yang perlu diketahui guna memahami metode machine learning lain yang lebih kompleks. Regresi linier cocok dipakai ketika terdapat hubungan linear pada data. Namun untuk implementasi pada kebanyakan kasus, ia kurang direkomendasikan. Sebabnya, regresi linier selalu mengasumsikan ada hubungan linier pada data, padahal tidak.  \n",
        "\n",
        "Secara sederhana regresi linear adalah teknik untuk memprediksi sebuah nilai dari variable Y (variabel dependen) berdasarkan beberapa variabel tertentu X (variabel independen) jika terdapat hubungan linier antara X dan Y.\n",
        "\n",
        "Hubungan antara hubungan linier dapat direpresentasikan dengan sebuah garis lurus (disebut garis regresi). Ilustrasi hubungan linier dapat dilihat pada gambar di mana data-data cenderung memiliki pola garis lurus.\n"
      ]
    },
    {
      "cell_type": "markdown",
      "metadata": {
        "id": "xYRBbLhQaaxo"
      },
      "source": [
        "# Example 1\n",
        "\n",
        "House pricing with numpy arrays"
      ]
    },
    {
      "cell_type": "code",
      "metadata": {
        "id": "uWqtm08GaLg4"
      },
      "source": [
        "import numpy as np\n",
        " \n",
        "#buat data jumlah kamar\n",
        "bedrooms = np.array([1,1,2,2,3,4,4,5,5,5])\n",
        " \n",
        "#data harga rumah. asumsi dalam dollar\n",
        "house_price = np.array([15000, 18000, 27000, 34000, 50000, 68000, 65000, 81000,85000, 90000])"
      ],
      "execution_count": 9,
      "outputs": []
    },
    {
      "cell_type": "code",
      "metadata": {
        "colab": {
          "base_uri": "https://localhost:8080/",
          "height": 282
        },
        "id": "q5egioy-aNOx",
        "outputId": "6ac32b4a-5609-42e1-bd07-ea9fd0dc8100"
      },
      "source": [
        "# menampilkan scatter plot dari dataset\n",
        "import matplotlib.pyplot as plt\n",
        "%matplotlib inline\n",
        " \n",
        "plt.scatter(bedrooms, house_price)"
      ],
      "execution_count": 10,
      "outputs": [
        {
          "output_type": "execute_result",
          "data": {
            "text/plain": [
              "<matplotlib.collections.PathCollection at 0x7faa6fb8f450>"
            ]
          },
          "metadata": {
            "tags": []
          },
          "execution_count": 10
        },
        {
          "output_type": "display_data",
          "data": {
            "image/png": "[encoded data removed]",
            "text/plain": [
              "<Figure size 432x288 with 1 Axes>"
            ]
          },
          "metadata": {
            "tags": [],
            "needs_background": "light"
          }
        }
      ]
    },
    {
      "cell_type": "code",
      "metadata": {
        "colab": {
          "base_uri": "https://localhost:8080/"
        },
        "id": "i13nwZDOaRtZ",
        "outputId": "ff5c127f-2bb5-4826-c83c-96d71ff037e9"
      },
      "source": [
        "from sklearn.linear_model import LinearRegression\n",
        " \n",
        "# latih model dengan Linear Regression.fit()\n",
        "bedrooms = bedrooms.reshape(-1, 1)\n",
        "linreg = LinearRegression()\n",
        "linreg.fit(bedrooms, house_price)"
      ],
      "execution_count": 11,
      "outputs": [
        {
          "output_type": "execute_result",
          "data": {
            "text/plain": [
              "LinearRegression(copy_X=True, fit_intercept=True, n_jobs=None, normalize=False)"
            ]
          },
          "metadata": {
            "tags": []
          },
          "execution_count": 11
        }
      ]
    },
    {
      "cell_type": "code",
      "metadata": {
        "colab": {
          "base_uri": "https://localhost:8080/",
          "height": 282
        },
        "id": "t-bakQtXaTxa",
        "outputId": "aaacd47b-a902-4a7f-a6d7-7953aaa90c8b"
      },
      "source": [
        "# menampilkan plot hubungan antara jumlah kamar dengan harga rumah\n",
        "plt.scatter(bedrooms, house_price)\n",
        "plt.plot(bedrooms, linreg.predict(bedrooms))"
      ],
      "execution_count": 12,
      "outputs": [
        {
          "output_type": "execute_result",
          "data": {
            "text/plain": [
              "[<matplotlib.lines.Line2D at 0x7faa6f689690>]"
            ]
          },
          "metadata": {
            "tags": []
          },
          "execution_count": 12
        },
        {
          "output_type": "display_data",
          "data": {
            "image/png": "[encoded data removed]",
            "text/plain": [
              "<Figure size 432x288 with 1 Axes>"
            ]
          },
          "metadata": {
            "tags": [],
            "needs_background": "light"
          }
        }
      ]
    },
    {
      "cell_type": "markdown",
      "metadata": {
        "id": "lRqZykmrahLf"
      },
      "source": [
        "# Example 2\n",
        "Real Dataset\n",
        "\n",
        "Car price predict\n",
        "\n",
        "https://www.kaggle.com/nehalbirla/vehicle-dataset-from-cardekho"
      ]
    },
    {
      "cell_type": "code",
      "metadata": {
        "id": "QkU0DsqyamII"
      },
      "source": [
        "import torch\n",
        "import torchvision\n",
        "import torch.nn as nn\n",
        "import pandas as pd\n",
        "import matplotlib.pyplot as plt\n",
        "import torch.nn.functional as F\n",
        "import seaborn as sns\n",
        "from torchvision.datasets.utils import download_url\n",
        "from torch.utils.data import DataLoader, TensorDataset, random_split"
      ],
      "execution_count": 14,
      "outputs": []
    },
    {
      "cell_type": "code",
      "metadata": {
        "colab": {
          "resources": {
            "http://localhost:8080/nbextensions/google.colab/files.js": {
              "data": "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",
              "ok": true,
              "headers": [
                [
                  "content-type",
                  "application/javascript"
                ]
              ],
              "status": 200,
              "status_text": ""
            }
          },
          "base_uri": "https://localhost:8080/",
          "height": 72
        },
        "id": "vk3OYT5fcsLw",
        "outputId": "c38507f7-f4b0-42f3-de54-3a27dc591596"
      },
      "source": [
        "from google.colab import files\n",
        "uploaded = files.upload()"
      ],
      "execution_count": 20,
      "outputs": [
        {
          "output_type": "display_data",
          "data": {
            "text/html": [
              "\n",
              "     <input type=\"file\" id=\"files-e10b688f-d548-4b19-b9cc-3f8f3dd4ac9d\" name=\"files[]\" multiple disabled\n",
              "        style=\"border:none\" />\n",
              "     <output id=\"result-e10b688f-d548-4b19-b9cc-3f8f3dd4ac9d\">\n",
              "      Upload widget is only available when the cell has been executed in the\n",
              "      current browser session. Please rerun this cell to enable.\n",
              "      </output>\n",
              "      <script src=\"/nbextensions/google.colab/files.js\"></script> "
            ],
            "text/plain": [
              "<IPython.core.display.HTML object>"
            ]
          },
          "metadata": {
            "tags": []
          }
        },
        {
          "output_type": "stream",
          "text": [
            "Saving car.csv to car.csv\n"
          ],
          "name": "stdout"
        }
      ]
    },
    {
      "cell_type": "code",
      "metadata": {
        "colab": {
          "base_uri": "https://localhost:8080/",
          "height": 419
        },
        "id": "Je6pe6o1c9cX",
        "outputId": "c61be3fe-c756-4bfd-ae7a-4279361e7eca"
      },
      "source": [
        "import io\n",
        "dataframe = pd.read_csv('/content/car.csv')\n",
        "dataframe = dataframe.drop(['Car_Name', 'Kms_Driven'], axis=1) # Exclude columns that we won't use\n",
        "dataframe"
      ],
      "execution_count": 22,
      "outputs": [
        {
          "output_type": "execute_result",
          "data": {
            "text/html": [
              "<div>\n",
              "<style scoped>\n",
              "    .dataframe tbody tr th:only-of-type {\n",
              "        vertical-align: middle;\n",
              "    }\n",
              "\n",
              "    .dataframe tbody tr th {\n",
              "        vertical-align: top;\n",
              "    }\n",
              "\n",
              "    .dataframe thead th {\n",
              "        text-align: right;\n",
              "    }\n",
              "</style>\n",
              "<table border=\"1\" class=\"dataframe\">\n",
              "  <thead>\n",
              "    <tr style=\"text-align: right;\">\n",
              "      <th></th>\n",
              "      <th>Year</th>\n",
              "      <th>Selling_Price</th>\n",
              "      <th>Present_Price</th>\n",
              "      <th>Fuel_Type</th>\n",
              "      <th>Seller_Type</th>\n",
              "      <th>Transmission</th>\n",
              "      <th>Owner</th>\n",
              "    </tr>\n",
              "  </thead>\n",
              "  <tbody>\n",
              "    <tr>\n",
              "      <th>0</th>\n",
              "      <td>2014</td>\n",
              "      <td>3.35</td>\n",
              "      <td>5.59</td>\n",
              "      <td>Petrol</td>\n",
              "      <td>Dealer</td>\n",
              "      <td>Manual</td>\n",
              "      <td>0</td>\n",
              "    </tr>\n",
              "    <tr>\n",
              "      <th>1</th>\n",
              "      <td>2013</td>\n",
              "      <td>4.75</td>\n",
              "      <td>9.54</td>\n",
              "      <td>Diesel</td>\n",
              "      <td>Dealer</td>\n",
              "      <td>Manual</td>\n",
              "      <td>0</td>\n",
              "    </tr>\n",
              "    <tr>\n",
              "      <th>2</th>\n",
              "      <td>2017</td>\n",
              "      <td>7.25</td>\n",
              "      <td>9.85</td>\n",
              "      <td>Petrol</td>\n",
              "      <td>Dealer</td>\n",
              "      <td>Manual</td>\n",
              "      <td>0</td>\n",
              "    </tr>\n",
              "    <tr>\n",
              "      <th>3</th>\n",
              "      <td>2011</td>\n",
              "      <td>2.85</td>\n",
              "      <td>4.15</td>\n",
              "      <td>Petrol</td>\n",
              "      <td>Dealer</td>\n",
              "      <td>Manual</td>\n",
              "      <td>0</td>\n",
              "    </tr>\n",
              "    <tr>\n",
              "      <th>4</th>\n",
              "      <td>2014</td>\n",
              "      <td>4.60</td>\n",
              "      <td>6.87</td>\n",
              "      <td>Diesel</td>\n",
              "      <td>Dealer</td>\n",
              "      <td>Manual</td>\n",
              "      <td>0</td>\n",
              "    </tr>\n",
              "    <tr>\n",
              "      <th>...</th>\n",
              "      <td>...</td>\n",
              "      <td>...</td>\n",
              "      <td>...</td>\n",
              "      <td>...</td>\n",
              "      <td>...</td>\n",
              "      <td>...</td>\n",
              "      <td>...</td>\n",
              "    </tr>\n",
              "    <tr>\n",
              "      <th>296</th>\n",
              "      <td>2016</td>\n",
              "      <td>9.50</td>\n",
              "      <td>11.60</td>\n",
              "      <td>Diesel</td>\n",
              "      <td>Dealer</td>\n",
              "      <td>Manual</td>\n",
              "      <td>0</td>\n",
              "    </tr>\n",
              "    <tr>\n",
              "      <th>297</th>\n",
              "      <td>2015</td>\n",
              "      <td>4.00</td>\n",
              "      <td>5.90</td>\n",
              "      <td>Petrol</td>\n",
              "      <td>Dealer</td>\n",
              "      <td>Manual</td>\n",
              "      <td>0</td>\n",
              "    </tr>\n",
              "    <tr>\n",
              "      <th>298</th>\n",
              "      <td>2009</td>\n",
              "      <td>3.35</td>\n",
              "      <td>11.00</td>\n",
              "      <td>Petrol</td>\n",
              "      <td>Dealer</td>\n",
              "      <td>Manual</td>\n",
              "      <td>0</td>\n",
              "    </tr>\n",
              "    <tr>\n",
              "      <th>299</th>\n",
              "      <td>2017</td>\n",
              "      <td>11.50</td>\n",
              "      <td>12.50</td>\n",
              "      <td>Diesel</td>\n",
              "      <td>Dealer</td>\n",
              "      <td>Manual</td>\n",
              "      <td>0</td>\n",
              "    </tr>\n",
              "    <tr>\n",
              "      <th>300</th>\n",
              "      <td>2016</td>\n",
              "      <td>5.30</td>\n",
              "      <td>5.90</td>\n",
              "      <td>Petrol</td>\n",
              "      <td>Dealer</td>\n",
              "      <td>Manual</td>\n",
              "      <td>0</td>\n",
              "    </tr>\n",
              "  </tbody>\n",
              "</table>\n",
              "<p>301 rows × 7 columns</p>\n",
              "</div>"
            ],
            "text/plain": [
              "     Year  Selling_Price  Present_Price  ... Seller_Type Transmission Owner\n",
              "0    2014           3.35           5.59  ...      Dealer       Manual     0\n",
              "1    2013           4.75           9.54  ...      Dealer       Manual     0\n",
              "2    2017           7.25           9.85  ...      Dealer       Manual     0\n",
              "3    2011           2.85           4.15  ...      Dealer       Manual     0\n",
              "4    2014           4.60           6.87  ...      Dealer       Manual     0\n",
              "..    ...            ...            ...  ...         ...          ...   ...\n",
              "296  2016           9.50          11.60  ...      Dealer       Manual     0\n",
              "297  2015           4.00           5.90  ...      Dealer       Manual     0\n",
              "298  2009           3.35          11.00  ...      Dealer       Manual     0\n",
              "299  2017          11.50          12.50  ...      Dealer       Manual     0\n",
              "300  2016           5.30           5.90  ...      Dealer       Manual     0\n",
              "\n",
              "[301 rows x 7 columns]"
            ]
          },
          "metadata": {
            "tags": []
          },
          "execution_count": 22
        }
      ]
    },
    {
      "cell_type": "code",
      "metadata": {
        "id": "P_DcgV5PeEQQ"
      },
      "source": [
        "num_rows = len(dataframe)\n",
        "input_cols = ['Year',\t'Selling_Price',\t'Fuel_Type',\t'Seller_Type',\t'Transmission',\t'Owner']\n",
        "categorical_cols = ['Year', 'Fuel_Type', 'Seller_Type', 'Transmission', 'Owner']\n",
        "output_cols = ['Present_Price']"
      ],
      "execution_count": 23,
      "outputs": []
    },
    {
      "cell_type": "code",
      "metadata": {
        "colab": {
          "base_uri": "https://localhost:8080/"
        },
        "id": "zz4YIOHCeFPX",
        "outputId": "85cdde0d-316f-480b-bc29-a10c225cab13"
      },
      "source": [
        "print('Minimun Charge: {}'.format(dataframe.Present_Price.min()))\n",
        "print('Average Charge: {}'.format(dataframe.Present_Price.mean()))\n",
        "print('Maximun Charge: {}'.format(dataframe.Present_Price.max()))"
      ],
      "execution_count": 24,
      "outputs": [
        {
          "output_type": "stream",
          "text": [
            "Minimun Charge: 0.32\n",
            "Average Charge: 7.628471760797344\n",
            "Maximun Charge: 92.6\n"
          ],
          "name": "stdout"
        }
      ]
    },
    {
      "cell_type": "code",
      "metadata": {
        "colab": {
          "base_uri": "https://localhost:8080/",
          "height": 296
        },
        "id": "i7Eg138CeIDC",
        "outputId": "e0bb86a2-4770-4c88-8d11-534e3b7f0095"
      },
      "source": [
        "plt.title(\"Distribution of Showroom Price\")\n",
        "sns.distplot(dataframe.Present_Price, kde=False);"
      ],
      "execution_count": 25,
      "outputs": [
        {
          "output_type": "display_data",
          "data": {
            "image/png": "[encoded data removed]",
            "text/plain": [
              "<Figure size 432x288 with 1 Axes>"
            ]
          },
          "metadata": {
            "tags": [],
            "needs_background": "light"
          }
        }
      ]
    },
    {
      "cell_type": "code",
      "metadata": {
        "id": "o8N2yc1ieLK3"
      },
      "source": [
        "def dataframe_to_arrays(dataframe):\n",
        "    # Make a copy of the original dataframe\n",
        "    dataframe1 = dataframe.copy(deep=True)\n",
        "    # Convert non-numeric categorical columns to numbers\n",
        "    for col in categorical_cols:\n",
        "        dataframe1[col] = dataframe1[col].astype('category').cat.codes\n",
        "    # Extract input & outupts as numpy arrays\n",
        "    inputs_array = dataframe1[input_cols].to_numpy()\n",
        "    targets_array = dataframe1[output_cols].to_numpy()\n",
        "    return inputs_array, targets_array"
      ],
      "execution_count": 26,
      "outputs": []
    },
    {
      "cell_type": "code",
      "metadata": {
        "colab": {
          "base_uri": "https://localhost:8080/"
        },
        "id": "1blD5iFDePZv",
        "outputId": "4874c113-924d-4be9-cea3-b8bd6caa6897"
      },
      "source": [
        "inputs_array, targets_array = dataframe_to_arrays(dataframe) # Create arrays for inputs and targets\n",
        "inputs_array, targets_array"
      ],
      "execution_count": 27,
      "outputs": [
        {
          "output_type": "execute_result",
          "data": {
            "text/plain": [
              "(array([[11.  ,  3.35,  2.  ,  0.  ,  1.  ,  0.  ],\n",
              "        [10.  ,  4.75,  1.  ,  0.  ,  1.  ,  0.  ],\n",
              "        [14.  ,  7.25,  2.  ,  0.  ,  1.  ,  0.  ],\n",
              "        ...,\n",
              "        [ 6.  ,  3.35,  2.  ,  0.  ,  1.  ,  0.  ],\n",
              "        [14.  , 11.5 ,  1.  ,  0.  ,  1.  ,  0.  ],\n",
              "        [13.  ,  5.3 ,  2.  ,  0.  ,  1.  ,  0.  ]]), array([[ 5.59 ],\n",
              "        [ 9.54 ],\n",
              "        [ 9.85 ],\n",
              "        [ 4.15 ],\n",
              "        [ 6.87 ],\n",
              "        [ 9.83 ],\n",
              "        [ 8.12 ],\n",
              "        [ 8.61 ],\n",
              "        [ 8.89 ],\n",
              "        [ 8.92 ],\n",
              "        [ 3.6  ],\n",
              "        [10.38 ],\n",
              "        [ 9.94 ],\n",
              "        [ 7.71 ],\n",
              "        [ 7.21 ],\n",
              "        [10.79 ],\n",
              "        [10.79 ],\n",
              "        [10.79 ],\n",
              "        [ 5.09 ],\n",
              "        [ 7.98 ],\n",
              "        [ 3.95 ],\n",
              "        [ 5.71 ],\n",
              "        [ 8.01 ],\n",
              "        [ 3.46 ],\n",
              "        [ 4.41 ],\n",
              "        [ 4.99 ],\n",
              "        [ 5.87 ],\n",
              "        [ 6.49 ],\n",
              "        [ 3.95 ],\n",
              "        [10.38 ],\n",
              "        [ 5.98 ],\n",
              "        [ 4.89 ],\n",
              "        [ 7.49 ],\n",
              "        [ 9.95 ],\n",
              "        [ 8.06 ],\n",
              "        [ 7.74 ],\n",
              "        [ 7.2  ],\n",
              "        [ 2.28 ],\n",
              "        [ 3.76 ],\n",
              "        [ 7.98 ],\n",
              "        [ 7.87 ],\n",
              "        [ 3.98 ],\n",
              "        [ 7.15 ],\n",
              "        [ 8.06 ],\n",
              "        [ 2.69 ],\n",
              "        [12.04 ],\n",
              "        [ 4.89 ],\n",
              "        [ 4.15 ],\n",
              "        [ 7.71 ],\n",
              "        [ 9.29 ],\n",
              "        [30.61 ],\n",
              "        [30.61 ],\n",
              "        [19.77 ],\n",
              "        [30.61 ],\n",
              "        [10.21 ],\n",
              "        [15.04 ],\n",
              "        [ 7.27 ],\n",
              "        [18.54 ],\n",
              "        [ 6.8  ],\n",
              "        [35.96 ],\n",
              "        [18.61 ],\n",
              "        [ 7.7  ],\n",
              "        [35.96 ],\n",
              "        [35.96 ],\n",
              "        [36.23 ],\n",
              "        [ 6.95 ],\n",
              "        [23.15 ],\n",
              "        [20.45 ],\n",
              "        [13.74 ],\n",
              "        [20.91 ],\n",
              "        [ 6.76 ],\n",
              "        [12.48 ],\n",
              "        [18.61 ],\n",
              "        [ 5.71 ],\n",
              "        [ 8.93 ],\n",
              "        [ 6.8  ],\n",
              "        [14.68 ],\n",
              "        [12.35 ],\n",
              "        [22.83 ],\n",
              "        [30.61 ],\n",
              "        [14.89 ],\n",
              "        [ 7.85 ],\n",
              "        [25.39 ],\n",
              "        [13.46 ],\n",
              "        [13.46 ],\n",
              "        [23.73 ],\n",
              "        [92.6  ],\n",
              "        [13.74 ],\n",
              "        [ 6.05 ],\n",
              "        [ 6.76 ],\n",
              "        [18.61 ],\n",
              "        [16.09 ],\n",
              "        [13.7  ],\n",
              "        [30.61 ],\n",
              "        [22.78 ],\n",
              "        [18.61 ],\n",
              "        [25.39 ],\n",
              "        [18.64 ],\n",
              "        [18.61 ],\n",
              "        [20.45 ],\n",
              "        [ 1.9  ],\n",
              "        [ 1.82 ],\n",
              "        [ 1.78 ],\n",
              "        [ 1.6  ],\n",
              "        [ 1.47 ],\n",
              "        [ 2.37 ],\n",
              "        [ 3.45 ],\n",
              "        [ 1.5  ],\n",
              "        [ 1.5  ],\n",
              "        [ 1.47 ],\n",
              "        [ 1.78 ],\n",
              "        [ 1.5  ],\n",
              "        [ 2.4  ],\n",
              "        [ 1.4  ],\n",
              "        [ 1.47 ],\n",
              "        [ 1.47 ],\n",
              "        [ 1.47 ],\n",
              "        [ 1.9  ],\n",
              "        [ 1.47 ],\n",
              "        [ 1.9  ],\n",
              "        [ 1.26 ],\n",
              "        [ 1.5  ],\n",
              "        [ 1.17 ],\n",
              "        [ 1.47 ],\n",
              "        [ 1.75 ],\n",
              "        [ 1.75 ],\n",
              "        [ 0.95 ],\n",
              "        [ 0.8  ],\n",
              "        [ 0.87 ],\n",
              "        [ 0.84 ],\n",
              "        [ 0.87 ],\n",
              "        [ 0.82 ],\n",
              "        [ 0.95 ],\n",
              "        [ 0.95 ],\n",
              "        [ 0.81 ],\n",
              "        [ 0.74 ],\n",
              "        [ 1.2  ],\n",
              "        [ 0.787],\n",
              "        [ 0.87 ],\n",
              "        [ 0.95 ],\n",
              "        [ 1.2  ],\n",
              "        [ 0.8  ],\n",
              "        [ 0.84 ],\n",
              "        [ 0.84 ],\n",
              "        [ 0.99 ],\n",
              "        [ 0.81 ],\n",
              "        [ 0.787],\n",
              "        [ 0.84 ],\n",
              "        [ 0.94 ],\n",
              "        [ 0.94 ],\n",
              "        [ 0.826],\n",
              "        [ 0.55 ],\n",
              "        [ 0.99 ],\n",
              "        [ 0.99 ],\n",
              "        [ 0.88 ],\n",
              "        [ 0.51 ],\n",
              "        [ 0.52 ],\n",
              "        [ 0.84 ],\n",
              "        [ 0.54 ],\n",
              "        [ 0.51 ],\n",
              "        [ 0.95 ],\n",
              "        [ 0.826],\n",
              "        [ 0.99 ],\n",
              "        [ 0.95 ],\n",
              "        [ 0.54 ],\n",
              "        [ 0.54 ],\n",
              "        [ 0.55 ],\n",
              "        [ 0.81 ],\n",
              "        [ 0.73 ],\n",
              "        [ 0.54 ],\n",
              "        [ 0.83 ],\n",
              "        [ 0.55 ],\n",
              "        [ 0.64 ],\n",
              "        [ 0.51 ],\n",
              "        [ 0.72 ],\n",
              "        [ 0.787],\n",
              "        [ 1.05 ],\n",
              "        [ 0.57 ],\n",
              "        [ 0.52 ],\n",
              "        [ 1.05 ],\n",
              "        [ 0.51 ],\n",
              "        [ 0.48 ],\n",
              "        [ 0.58 ],\n",
              "        [ 0.47 ],\n",
              "        [ 0.75 ],\n",
              "        [ 0.58 ],\n",
              "        [ 0.52 ],\n",
              "        [ 0.51 ],\n",
              "        [ 0.57 ],\n",
              "        [ 0.57 ],\n",
              "        [ 0.75 ],\n",
              "        [ 0.57 ],\n",
              "        [ 0.75 ],\n",
              "        [ 0.65 ],\n",
              "        [ 0.787],\n",
              "        [ 0.32 ],\n",
              "        [ 0.52 ],\n",
              "        [ 0.51 ],\n",
              "        [ 0.57 ],\n",
              "        [ 0.58 ],\n",
              "        [ 0.75 ],\n",
              "        [ 6.79 ],\n",
              "        [ 5.7  ],\n",
              "        [ 4.6  ],\n",
              "        [ 4.43 ],\n",
              "        [ 5.7  ],\n",
              "        [ 7.13 ],\n",
              "        [ 5.7  ],\n",
              "        [ 8.1  ],\n",
              "        [ 5.7  ],\n",
              "        [ 4.6  ],\n",
              "        [14.79 ],\n",
              "        [13.6  ],\n",
              "        [ 6.79 ],\n",
              "        [ 5.7  ],\n",
              "        [ 9.4  ],\n",
              "        [ 4.43 ],\n",
              "        [ 4.43 ],\n",
              "        [ 9.4  ],\n",
              "        [ 9.4  ],\n",
              "        [ 4.43 ],\n",
              "        [ 6.79 ],\n",
              "        [ 7.6  ],\n",
              "        [ 9.4  ],\n",
              "        [ 9.4  ],\n",
              "        [ 4.6  ],\n",
              "        [ 5.7  ],\n",
              "        [ 4.43 ],\n",
              "        [ 9.4  ],\n",
              "        [ 6.79 ],\n",
              "        [ 9.4  ],\n",
              "        [ 9.4  ],\n",
              "        [14.79 ],\n",
              "        [ 5.7  ],\n",
              "        [ 5.7  ],\n",
              "        [ 9.4  ],\n",
              "        [ 4.43 ],\n",
              "        [13.6  ],\n",
              "        [ 9.4  ],\n",
              "        [ 4.43 ],\n",
              "        [ 9.4  ],\n",
              "        [ 7.13 ],\n",
              "        [ 7.13 ],\n",
              "        [ 7.6  ],\n",
              "        [ 9.4  ],\n",
              "        [ 9.4  ],\n",
              "        [ 6.79 ],\n",
              "        [ 9.4  ],\n",
              "        [ 4.6  ],\n",
              "        [ 7.6  ],\n",
              "        [13.6  ],\n",
              "        [ 9.9  ],\n",
              "        [ 6.82 ],\n",
              "        [ 9.9  ],\n",
              "        [ 9.9  ],\n",
              "        [ 5.35 ],\n",
              "        [13.6  ],\n",
              "        [13.6  ],\n",
              "        [13.6  ],\n",
              "        [ 7.   ],\n",
              "        [13.6  ],\n",
              "        [ 5.97 ],\n",
              "        [ 5.8  ],\n",
              "        [ 7.7  ],\n",
              "        [ 7.   ],\n",
              "        [ 8.7  ],\n",
              "        [ 7.   ],\n",
              "        [ 9.4  ],\n",
              "        [ 5.8  ],\n",
              "        [10.   ],\n",
              "        [10.   ],\n",
              "        [10.   ],\n",
              "        [10.   ],\n",
              "        [ 7.5  ],\n",
              "        [ 6.8  ],\n",
              "        [13.6  ],\n",
              "        [13.6  ],\n",
              "        [13.6  ],\n",
              "        [ 8.4  ],\n",
              "        [13.6  ],\n",
              "        [ 5.9  ],\n",
              "        [ 7.6  ],\n",
              "        [14.   ],\n",
              "        [11.8  ],\n",
              "        [ 5.9  ],\n",
              "        [ 8.5  ],\n",
              "        [ 7.9  ],\n",
              "        [ 7.5  ],\n",
              "        [13.6  ],\n",
              "        [13.6  ],\n",
              "        [ 6.4  ],\n",
              "        [ 6.1  ],\n",
              "        [ 8.4  ],\n",
              "        [ 9.9  ],\n",
              "        [ 6.8  ],\n",
              "        [13.09 ],\n",
              "        [11.6  ],\n",
              "        [ 5.9  ],\n",
              "        [11.   ],\n",
              "        [12.5  ],\n",
              "        [ 5.9  ]]))"
            ]
          },
          "metadata": {
            "tags": []
          },
          "execution_count": 27
        }
      ]
    },
    {
      "cell_type": "code",
      "metadata": {
        "id": "Ah_tAj8KeSdX"
      },
      "source": [
        "# Create PyTorch Tensors from Numpy arrays\n",
        "inputs = torch.from_numpy(inputs_array).float()\n",
        "targets = torch.from_numpy(targets_array).float()"
      ],
      "execution_count": 28,
      "outputs": []
    },
    {
      "cell_type": "code",
      "metadata": {
        "colab": {
          "base_uri": "https://localhost:8080/",
          "height": 34
        },
        "id": "LIM7KvWteSgf",
        "outputId": "bc493dac-fb0b-40a7-994a-c9b24414212b"
      },
      "source": [
        "dataset = TensorDataset(inputs, targets)\n",
        "display(dataset)"
      ],
      "execution_count": 30,
      "outputs": [
        {
          "output_type": "display_data",
          "data": {
            "text/plain": [
              "<torch.utils.data.dataset.TensorDataset at 0x7faa13832b10>"
            ]
          },
          "metadata": {
            "tags": []
          }
        }
      ]
    },
    {
      "cell_type": "code",
      "metadata": {
        "id": "EGI3PmPceSix"
      },
      "source": [
        "val_percent = 0.1\n",
        "val_size = int(num_rows * val_percent)\n",
        "train_size = num_rows - val_size\n",
        "\n",
        "train_ds, val_ds = random_split(dataset, [train_size, val_size]) # split dataset into 2 parts of the desired length"
      ],
      "execution_count": 31,
      "outputs": []
    },
    {
      "cell_type": "code",
      "metadata": {
        "id": "sn8pE71AeSlh"
      },
      "source": [
        "batch_size = 50\n",
        "train_loader = DataLoader(train_ds, batch_size, shuffle=True)\n",
        "val_loader = DataLoader(val_ds, batch_size)"
      ],
      "execution_count": 32,
      "outputs": []
    },
    {
      "cell_type": "code",
      "metadata": {
        "colab": {
          "base_uri": "https://localhost:8080/"
        },
        "id": "4FY9s7j3edoB",
        "outputId": "9e517023-364a-4e74-b8e8-de785a2becd8"
      },
      "source": [
        "for xb, yb in train_loader:\n",
        "    print(\"inputs:\", xb)\n",
        "    print(\"targets:\", yb)\n",
        "    break"
      ],
      "execution_count": 33,
      "outputs": [
        {
          "output_type": "stream",
          "text": [
            "inputs: tensor([[12.0000,  4.7500,  1.0000,  0.0000,  1.0000,  0.0000],\n",
            "        [11.0000,  3.6500,  2.0000,  0.0000,  1.0000,  0.0000],\n",
            "        [14.0000, 17.0000,  2.0000,  0.0000,  1.0000,  0.0000],\n",
            "        [13.0000,  5.3000,  2.0000,  0.0000,  1.0000,  0.0000],\n",
            "        [14.0000,  6.5000,  2.0000,  0.0000,  1.0000,  0.0000],\n",
            "        [13.0000,  0.3000,  2.0000,  1.0000,  1.0000,  0.0000],\n",
            "        [10.0000,  1.0000,  2.0000,  1.0000,  1.0000,  0.0000],\n",
            "        [14.0000,  0.7500,  2.0000,  1.0000,  1.0000,  0.0000],\n",
            "        [ 8.0000,  2.3500,  2.0000,  0.0000,  1.0000,  0.0000],\n",
            "        [14.0000,  3.5000,  2.0000,  0.0000,  1.0000,  0.0000],\n",
            "        [13.0000,  6.2500,  2.0000,  0.0000,  1.0000,  0.0000],\n",
            "        [13.0000, 10.2500,  2.0000,  0.0000,  1.0000,  0.0000],\n",
            "        [13.0000,  5.6500,  2.0000,  0.0000,  1.0000,  0.0000],\n",
            "        [12.0000,  8.5000,  2.0000,  0.0000,  1.0000,  0.0000],\n",
            "        [ 7.0000, 35.0000,  1.0000,  0.0000,  1.0000,  0.0000],\n",
            "        [12.0000,  8.2500,  1.0000,  0.0000,  1.0000,  0.0000],\n",
            "        [13.0000,  1.2000,  2.0000,  1.0000,  1.0000,  0.0000],\n",
            "        [ 9.0000,  3.0000,  2.0000,  0.0000,  1.0000,  0.0000],\n",
            "        [ 1.0000,  1.5000,  2.0000,  0.0000,  0.0000,  0.0000],\n",
            "        [10.0000,  3.9000,  1.0000,  0.0000,  1.0000,  0.0000],\n",
            "        [ 8.0000,  2.7000,  2.0000,  0.0000,  1.0000,  0.0000],\n",
            "        [11.0000,  5.5000,  1.0000,  0.0000,  1.0000,  0.0000],\n",
            "        [ 9.0000,  2.0000,  2.0000,  0.0000,  1.0000,  0.0000],\n",
            "        [10.0000,  4.7500,  1.0000,  0.0000,  1.0000,  0.0000],\n",
            "        [11.0000,  5.3000,  2.0000,  0.0000,  1.0000,  0.0000],\n",
            "        [12.0000,  7.4500,  1.0000,  0.0000,  1.0000,  0.0000],\n",
            "        [14.0000,  0.9000,  2.0000,  1.0000,  1.0000,  0.0000],\n",
            "        [ 3.0000,  1.0500,  2.0000,  0.0000,  1.0000,  0.0000],\n",
            "        [ 9.0000,  5.9000,  2.0000,  0.0000,  1.0000,  0.0000],\n",
            "        [12.0000,  4.4000,  2.0000,  0.0000,  1.0000,  0.0000],\n",
            "        [11.0000,  4.9500,  1.0000,  0.0000,  1.0000,  0.0000],\n",
            "        [11.0000,  6.2500,  2.0000,  0.0000,  1.0000,  0.0000],\n",
            "        [14.0000,  0.7500,  2.0000,  1.0000,  1.0000,  0.0000],\n",
            "        [14.0000,  2.8500,  2.0000,  0.0000,  1.0000,  0.0000],\n",
            "        [10.0000,  3.5000,  2.0000,  0.0000,  1.0000,  0.0000],\n",
            "        [ 7.0000,  2.2500,  2.0000,  0.0000,  1.0000,  0.0000],\n",
            "        [12.0000, 12.5000,  1.0000,  0.0000,  1.0000,  0.0000],\n",
            "        [10.0000,  7.0500,  2.0000,  0.0000,  1.0000,  0.0000],\n",
            "        [ 8.0000,  4.3500,  2.0000,  0.0000,  1.0000,  0.0000],\n",
            "        [11.0000,  3.9000,  2.0000,  0.0000,  1.0000,  0.0000],\n",
            "        [12.0000,  9.7000,  2.0000,  0.0000,  1.0000,  0.0000],\n",
            "        [ 7.0000,  1.9500,  2.0000,  0.0000,  1.0000,  0.0000],\n",
            "        [10.0000,  5.2500,  2.0000,  0.0000,  1.0000,  0.0000],\n",
            "        [10.0000,  6.9500,  2.0000,  0.0000,  1.0000,  0.0000],\n",
            "        [10.0000,  2.6500,  2.0000,  0.0000,  1.0000,  0.0000],\n",
            "        [10.0000,  5.1100,  2.0000,  0.0000,  0.0000,  0.0000],\n",
            "        [ 9.0000,  0.6000,  2.0000,  1.0000,  1.0000,  0.0000],\n",
            "        [11.0000,  4.1000,  2.0000,  0.0000,  1.0000,  1.0000],\n",
            "        [13.0000,  0.5000,  2.0000,  1.0000,  1.0000,  0.0000],\n",
            "        [12.0000,  5.2500,  2.0000,  0.0000,  1.0000,  0.0000]])\n",
            "targets: tensor([[ 7.8500],\n",
            "        [ 7.0000],\n",
            "        [18.6400],\n",
            "        [ 5.9000],\n",
            "        [ 8.7000],\n",
            "        [ 0.4800],\n",
            "        [ 1.4700],\n",
            "        [ 0.8700],\n",
            "        [ 4.8900],\n",
            "        [ 4.4300],\n",
            "        [ 7.6000],\n",
            "        [13.6000],\n",
            "        [ 7.9000],\n",
            "        [13.6000],\n",
            "        [92.6000],\n",
            "        [ 9.4000],\n",
            "        [ 1.7800],\n",
            "        [ 5.3500],\n",
            "        [12.3500],\n",
            "        [ 5.7000],\n",
            "        [ 4.6000],\n",
            "        [ 8.0600],\n",
            "        [ 4.4300],\n",
            "        [ 9.5400],\n",
            "        [ 6.8000],\n",
            "        [10.3800],\n",
            "        [ 0.9500],\n",
            "        [ 4.1500],\n",
            "        [13.7400],\n",
            "        [ 5.7000],\n",
            "        [ 7.4900],\n",
            "        [13.6000],\n",
            "        [ 0.9500],\n",
            "        [ 3.6000],\n",
            "        [ 5.9000],\n",
            "        [ 7.5000],\n",
            "        [13.4600],\n",
            "        [18.6100],\n",
            "        [13.7400],\n",
            "        [ 7.0000],\n",
            "        [13.6000],\n",
            "        [ 3.9500],\n",
            "        [ 9.9000],\n",
            "        [18.6100],\n",
            "        [ 4.8900],\n",
            "        [ 9.4000],\n",
            "        [ 0.8100],\n",
            "        [ 6.8000],\n",
            "        [ 0.5500],\n",
            "        [ 5.9000]])\n"
          ],
          "name": "stdout"
        }
      ]
    },
    {
      "cell_type": "code",
      "metadata": {
        "id": "r2ABMVC2efi_"
      },
      "source": [
        "input_size = len(input_cols)\n",
        "output_size = len(output_cols)"
      ],
      "execution_count": 34,
      "outputs": []
    },
    {
      "cell_type": "code",
      "metadata": {
        "id": "5mwsbD_7eiO5"
      },
      "source": [
        "class PriceModel(nn.Module):\n",
        "    def __init__(self):\n",
        "        super().__init__()\n",
        "        self.linear = nn.Linear(input_size, output_size)\n",
        "        \n",
        "    def forward(self, xb):\n",
        "        out = self.linear(xb)\n",
        "        return out\n",
        "    \n",
        "    def training_step(self, batch):\n",
        "        inputs, targets = batch \n",
        "        # Generate predictions\n",
        "        out = self(inputs)          \n",
        "        # Calculate loss\n",
        "        loss = F.l1_loss(out, targets)\n",
        "        return loss\n",
        "    \n",
        "    def validation_step(self, batch):\n",
        "        inputs, targets = batch\n",
        "        # Generate predictions\n",
        "        out = self(inputs)\n",
        "        # Calculate loss\n",
        "        loss = F.l1_loss(out, targets)  \n",
        "        return {'val_loss': loss.detach()}\n",
        "        \n",
        "    def validation_epoch_end(self, outputs):\n",
        "        batch_losses = [x['val_loss'] for x in outputs]\n",
        "        epoch_loss = torch.stack(batch_losses).mean()\n",
        "        return {'val_loss': epoch_loss.item()}\n",
        "    \n",
        "    def epoch_end(self, epoch, result, num_epochs):\n",
        "        # Print result every 20th epoch\n",
        "        if (epoch+1) % 20 == 0 or epoch == num_epochs-1:\n",
        "            print(\"Epoch [{}], val_loss: {:.4f}\".format(epoch+1, result['val_loss']))"
      ],
      "execution_count": 35,
      "outputs": []
    },
    {
      "cell_type": "code",
      "metadata": {
        "id": "Z_kW6wt-elv5"
      },
      "source": [
        "model = PriceModel()"
      ],
      "execution_count": 36,
      "outputs": []
    },
    {
      "cell_type": "code",
      "metadata": {
        "id": "yDADzolkeoSi"
      },
      "source": [
        "def evaluate(model, val_loader):\n",
        "    outputs = [model.validation_step(batch) for batch in val_loader]\n",
        "    return model.validation_epoch_end(outputs)\n",
        "\n",
        "def fit(epochs, lr, model, train_loader, val_loader, opt_func=torch.optim.SGD):\n",
        "    history = []\n",
        "    optimizer = opt_func(model.parameters(), lr)\n",
        "    for epoch in range(epochs):\n",
        "        # Training Phase \n",
        "        for batch in train_loader:\n",
        "            loss = model.training_step(batch)\n",
        "            loss.backward()\n",
        "            optimizer.step()\n",
        "            optimizer.zero_grad()\n",
        "        # Validation phase\n",
        "        result = evaluate(model, val_loader)\n",
        "        model.epoch_end(epoch, result, epochs)\n",
        "        history.append(result)\n",
        "    return history"
      ],
      "execution_count": 37,
      "outputs": []
    },
    {
      "cell_type": "code",
      "metadata": {
        "colab": {
          "base_uri": "https://localhost:8080/"
        },
        "id": "o2ObW09OerFq",
        "outputId": "1c2fd1d2-5b18-466f-f9f7-87ed34de9f7d"
      },
      "source": [
        "result = evaluate(model, val_loader) # Use the evaluate function\n",
        "print(result)"
      ],
      "execution_count": 38,
      "outputs": [
        {
          "output_type": "stream",
          "text": [
            "{'val_loss': 8.88991641998291}\n"
          ],
          "name": "stdout"
        }
      ]
    },
    {
      "cell_type": "code",
      "metadata": {
        "colab": {
          "base_uri": "https://localhost:8080/"
        },
        "id": "a1RicpxFes4I",
        "outputId": "a51bd6de-d2a0-4b87-cfa3-8f7fdf3640b0"
      },
      "source": [
        "epochs = 100\n",
        "lr = 1e-2\n",
        "history1 = fit(epochs, lr, model, train_loader, val_loader)"
      ],
      "execution_count": 46,
      "outputs": [
        {
          "output_type": "stream",
          "text": [
            "Epoch [20], val_loss: 2.0884\n",
            "Epoch [40], val_loss: 2.1264\n",
            "Epoch [60], val_loss: 2.0501\n",
            "Epoch [80], val_loss: 2.0334\n",
            "Epoch [100], val_loss: 2.0984\n"
          ],
          "name": "stdout"
        }
      ]
    },
    {
      "cell_type": "code",
      "metadata": {
        "colab": {
          "base_uri": "https://localhost:8080/"
        },
        "id": "I20ZAyPoevnU",
        "outputId": "887c7d08-1851-4ce8-de27-fd815cbd5367"
      },
      "source": [
        "epochs = 100\n",
        "lr = 1e-3\n",
        "history2 = fit(epochs, lr, model, train_loader, val_loader)"
      ],
      "execution_count": 47,
      "outputs": [
        {
          "output_type": "stream",
          "text": [
            "Epoch [20], val_loss: 2.0474\n",
            "Epoch [40], val_loss: 2.0437\n",
            "Epoch [60], val_loss: 2.0329\n",
            "Epoch [80], val_loss: 2.0236\n",
            "Epoch [100], val_loss: 2.0395\n"
          ],
          "name": "stdout"
        }
      ]
    },
    {
      "cell_type": "code",
      "metadata": {
        "colab": {
          "base_uri": "https://localhost:8080/"
        },
        "id": "0yYBW9_veyt4",
        "outputId": "1f1aa9b7-f8a1-40fb-cb61-5749a39d0d61"
      },
      "source": [
        "epochs = 100\n",
        "lr = 1e-4\n",
        "history3 = fit(epochs, lr, model, train_loader, val_loader)"
      ],
      "execution_count": 48,
      "outputs": [
        {
          "output_type": "stream",
          "text": [
            "Epoch [20], val_loss: 2.0312\n",
            "Epoch [40], val_loss: 2.0283\n",
            "Epoch [60], val_loss: 2.0291\n",
            "Epoch [80], val_loss: 2.0264\n",
            "Epoch [100], val_loss: 2.0249\n"
          ],
          "name": "stdout"
        }
      ]
    },
    {
      "cell_type": "code",
      "metadata": {
        "colab": {
          "base_uri": "https://localhost:8080/"
        },
        "id": "pM5Xh9Bme2PJ",
        "outputId": "64b67770-508a-4f69-c4bc-db6e5ec59df6"
      },
      "source": [
        "epochs = 100\n",
        "lr = 1e-5\n",
        "history4 = fit(epochs, lr, model, train_loader, val_loader)"
      ],
      "execution_count": 49,
      "outputs": [
        {
          "output_type": "stream",
          "text": [
            "Epoch [20], val_loss: 2.0249\n",
            "Epoch [40], val_loss: 2.0249\n",
            "Epoch [60], val_loss: 2.0251\n",
            "Epoch [80], val_loss: 2.0251\n",
            "Epoch [100], val_loss: 2.0249\n"
          ],
          "name": "stdout"
        }
      ]
    },
    {
      "cell_type": "code",
      "metadata": {
        "colab": {
          "base_uri": "https://localhost:8080/"
        },
        "id": "CCqPlWbGe9bL",
        "outputId": "fc17e9ed-6f4d-4ee9-bbcd-290ea4fe9894"
      },
      "source": [
        "epochs = 100\n",
        "lr = 1e-6\n",
        "history5 = fit(epochs, lr, model, train_loader, val_loader)"
      ],
      "execution_count": 50,
      "outputs": [
        {
          "output_type": "stream",
          "text": [
            "Epoch [20], val_loss: 2.0248\n",
            "Epoch [40], val_loss: 2.0248\n",
            "Epoch [60], val_loss: 2.0248\n",
            "Epoch [80], val_loss: 2.0249\n",
            "Epoch [100], val_loss: 2.0248\n"
          ],
          "name": "stdout"
        }
      ]
    },
    {
      "cell_type": "code",
      "metadata": {
        "colab": {
          "base_uri": "https://localhost:8080/",
          "height": 333
        },
        "id": "hoVX9Texe6px",
        "outputId": "192f15f0-52c8-4e76-933c-c542decbd69a"
      },
      "source": [
        "val_loss = [result] + history1 + history2 + history3 + history4 + history5\n",
        "print(val_loss)\n",
        "val_loss_list = [vl['val_loss'] for vl in val_loss]\n",
        "\n",
        "plt.plot(val_loss_list, '-x')\n",
        "\n",
        "plt.xlabel('epochs')\n",
        "plt.ylabel('losses')"
      ],
      "execution_count": 51,
      "outputs": [
        {
          "output_type": "stream",
          "text": [
            "[{'val_loss': 8.88991641998291}, {'val_loss': 2.1098036766052246}, {'val_loss': 2.1418190002441406}, {'val_loss': 2.2256014347076416}, {'val_loss': 2.2763214111328125}, {'val_loss': 2.1165835857391357}, {'val_loss': 2.2391510009765625}, {'val_loss': 2.1402931213378906}, {'val_loss': 2.1598293781280518}, {'val_loss': 2.1331894397735596}, {'val_loss': 2.149369955062866}, {'val_loss': 2.2486603260040283}, {'val_loss': 2.3107616901397705}, {'val_loss': 2.112419366836548}, {'val_loss': 2.3672821521759033}, {'val_loss': 2.135082483291626}, {'val_loss': 2.130687713623047}, {'val_loss': 2.228912830352783}, {'val_loss': 2.1077375411987305}, {'val_loss': 2.1088569164276123}, {'val_loss': 2.0883913040161133}, {'val_loss': 2.27463698387146}, {'val_loss': 2.496359348297119}, {'val_loss': 2.1395859718322754}, {'val_loss': 2.0934698581695557}, {'val_loss': 2.0906639099121094}, {'val_loss': 2.2545008659362793}, {'val_loss': 2.141240119934082}, {'val_loss': 2.0663814544677734}, {'val_loss': 2.1501402854919434}, {'val_loss': 2.321312665939331}, {'val_loss': 2.048663854598999}, {'val_loss': 2.0999808311462402}, {'val_loss': 2.086514711380005}, {'val_loss': 2.107635021209717}, {'val_loss': 2.252772092819214}, {'val_loss': 2.2030749320983887}, {'val_loss': 2.1202926635742188}, {'val_loss': 2.2641825675964355}, {'val_loss': 2.307682991027832}, {'val_loss': 2.126405954360962}, {'val_loss': 2.1394073963165283}, {'val_loss': 2.100083589553833}, {'val_loss': 2.097602128982544}, {'val_loss': 2.2240066528320312}, {'val_loss': 2.1475727558135986}, {'val_loss': 2.248650074005127}, {'val_loss': 2.1497726440429688}, {'val_loss': 2.070162773132324}, {'val_loss': 2.141754627227783}, {'val_loss': 2.2237367630004883}, {'val_loss': 2.2578001022338867}, {'val_loss': 2.18117618560791}, {'val_loss': 2.1021435260772705}, {'val_loss': 2.31178879737854}, {'val_loss': 2.073526382446289}, {'val_loss': 2.163992404937744}, {'val_loss': 2.069448709487915}, {'val_loss': 2.0956192016601562}, {'val_loss': 2.023449420928955}, {'val_loss': 2.0500552654266357}, {'val_loss': 2.0228562355041504}, {'val_loss': 2.0269994735717773}, {'val_loss': 2.005326747894287}, {'val_loss': 2.0450453758239746}, {'val_loss': 2.0558817386627197}, {'val_loss': 2.3822643756866455}, {'val_loss': 2.082980155944824}, {'val_loss': 2.080097198486328}, {'val_loss': 2.0647218227386475}, {'val_loss': 2.0571043491363525}, {'val_loss': 2.0703043937683105}, {'val_loss': 2.175879955291748}, {'val_loss': 2.219642400741577}, {'val_loss': 2.1629185676574707}, {'val_loss': 2.131080389022827}, {'val_loss': 2.027517557144165}, {'val_loss': 2.0506322383880615}, {'val_loss': 2.05572772026062}, {'val_loss': 1.9940619468688965}, {'val_loss': 2.0334386825561523}, {'val_loss': 2.1605749130249023}, {'val_loss': 2.052468776702881}, {'val_loss': 2.037499189376831}, {'val_loss': 2.0830607414245605}, {'val_loss': 2.1027512550354004}, {'val_loss': 2.052534818649292}, {'val_loss': 2.1026875972747803}, {'val_loss': 2.0685391426086426}, {'val_loss': 2.049863576889038}, {'val_loss': 2.1063485145568848}, {'val_loss': 2.048208475112915}, {'val_loss': 1.995197057723999}, {'val_loss': 2.018798828125}, {'val_loss': 2.0995500087738037}, {'val_loss': 2.048290729522705}, {'val_loss': 2.0857841968536377}, {'val_loss': 2.206381320953369}, {'val_loss': 2.1021649837493896}, {'val_loss': 2.2620396614074707}, {'val_loss': 2.098436117172241}, {'val_loss': 2.081993818283081}, {'val_loss': 2.073559045791626}, {'val_loss': 2.0808417797088623}, {'val_loss': 2.0748891830444336}, {'val_loss': 2.068880558013916}, {'val_loss': 2.072955369949341}, {'val_loss': 2.072721242904663}, {'val_loss': 2.0613272190093994}, {'val_loss': 2.0540637969970703}, {'val_loss': 2.05143141746521}, {'val_loss': 2.0582945346832275}, {'val_loss': 2.059555768966675}, {'val_loss': 2.0493502616882324}, {'val_loss': 2.050201177597046}, {'val_loss': 2.054379940032959}, {'val_loss': 2.0556540489196777}, {'val_loss': 2.0487334728240967}, {'val_loss': 2.0496089458465576}, {'val_loss': 2.0569498538970947}, {'val_loss': 2.047442674636841}, {'val_loss': 2.0485644340515137}, {'val_loss': 2.048856019973755}, {'val_loss': 2.048821449279785}, {'val_loss': 2.0545921325683594}, {'val_loss': 2.051659345626831}, {'val_loss': 2.0455729961395264}, {'val_loss': 2.0480129718780518}, {'val_loss': 2.050471782684326}, {'val_loss': 2.0537915229797363}, {'val_loss': 2.039731025695801}, {'val_loss': 2.0340230464935303}, {'val_loss': 2.0359010696411133}, {'val_loss': 2.037583589553833}, {'val_loss': 2.04191517829895}, {'val_loss': 2.0428264141082764}, {'val_loss': 2.0335423946380615}, {'val_loss': 2.040280342102051}, {'val_loss': 2.0441980361938477}, {'val_loss': 2.04196834564209}, {'val_loss': 2.043705701828003}, {'val_loss': 2.042328119277954}, {'val_loss': 2.0338103771209717}, {'val_loss': 2.0274460315704346}, {'val_loss': 2.0242106914520264}, {'val_loss': 2.0319998264312744}, {'val_loss': 2.0359294414520264}, {'val_loss': 2.0399811267852783}, {'val_loss': 2.046560764312744}, {'val_loss': 2.0403263568878174}, {'val_loss': 2.0402536392211914}, {'val_loss': 2.035433769226074}, {'val_loss': 2.03848934173584}, {'val_loss': 2.04059100151062}, {'val_loss': 2.0348312854766846}, {'val_loss': 2.0447630882263184}, {'val_loss': 2.036071300506592}, {'val_loss': 2.0460710525512695}, {'val_loss': 2.0427887439727783}, {'val_loss': 2.0431878566741943}, {'val_loss': 2.032900094985962}, {'val_loss': 2.0405542850494385}, {'val_loss': 2.038982629776001}, {'val_loss': 2.024005174636841}, {'val_loss': 2.024407148361206}, {'val_loss': 2.038367509841919}, {'val_loss': 2.030726671218872}, {'val_loss': 2.0361735820770264}, {'val_loss': 2.0356335639953613}, {'val_loss': 2.036299467086792}, {'val_loss': 2.0349924564361572}, {'val_loss': 2.0208580493927}, {'val_loss': 2.020172595977783}, {'val_loss': 2.024940252304077}, {'val_loss': 2.026000738143921}, {'val_loss': 2.036569118499756}, {'val_loss': 2.028331995010376}, {'val_loss': 2.0340816974639893}, {'val_loss': 2.02496337890625}, {'val_loss': 2.024773359298706}, {'val_loss': 2.023585796356201}, {'val_loss': 2.0308825969696045}, {'val_loss': 2.0351405143737793}, {'val_loss': 2.026740550994873}, {'val_loss': 2.0258939266204834}, {'val_loss': 2.0292155742645264}, {'val_loss': 2.01993727684021}, {'val_loss': 2.0327577590942383}, {'val_loss': 2.0325188636779785}, {'val_loss': 2.037562370300293}, {'val_loss': 2.0346503257751465}, {'val_loss': 2.0255613327026367}, {'val_loss': 2.0194239616394043}, {'val_loss': 2.027982234954834}, {'val_loss': 2.039968252182007}, {'val_loss': 2.023160457611084}, {'val_loss': 2.0311379432678223}, {'val_loss': 2.025346040725708}, {'val_loss': 2.04921817779541}, {'val_loss': 2.043602466583252}, {'val_loss': 2.0395171642303467}, {'val_loss': 2.0387561321258545}, {'val_loss': 2.0388002395629883}, {'val_loss': 2.0376267433166504}, {'val_loss': 2.0371644496917725}, {'val_loss': 2.0358433723449707}, {'val_loss': 2.0351827144622803}, {'val_loss': 2.034804582595825}, {'val_loss': 2.0342013835906982}, {'val_loss': 2.0333518981933594}, {'val_loss': 2.032853126525879}, {'val_loss': 2.0332322120666504}, {'val_loss': 2.0328338146209717}, {'val_loss': 2.0313761234283447}, {'val_loss': 2.0318355560302734}, {'val_loss': 2.0316002368927}, {'val_loss': 2.0307068824768066}, {'val_loss': 2.0311059951782227}, {'val_loss': 2.030592203140259}, {'val_loss': 2.0307254791259766}, {'val_loss': 2.0311853885650635}, {'val_loss': 2.0311810970306396}, {'val_loss': 2.0306906700134277}, {'val_loss': 2.0309062004089355}, {'val_loss': 2.0306100845336914}, {'val_loss': 2.030198812484741}, {'val_loss': 2.029776096343994}, {'val_loss': 2.0295827388763428}, {'val_loss': 2.0290369987487793}, {'val_loss': 2.0292115211486816}, {'val_loss': 2.0289251804351807}, {'val_loss': 2.0284910202026367}, {'val_loss': 2.0288431644439697}, {'val_loss': 2.028655767440796}, {'val_loss': 2.0284268856048584}, {'val_loss': 2.028749704360962}, {'val_loss': 2.028938055038452}, {'val_loss': 2.029325008392334}, {'val_loss': 2.0284948348999023}, {'val_loss': 2.0290541648864746}, {'val_loss': 2.0283169746398926}, {'val_loss': 2.028482675552368}, {'val_loss': 2.0291311740875244}, {'val_loss': 2.0290563106536865}, {'val_loss': 2.0282232761383057}, {'val_loss': 2.0290443897247314}, {'val_loss': 2.0291874408721924}, {'val_loss': 2.0294528007507324}, {'val_loss': 2.0294063091278076}, {'val_loss': 2.029815196990967}, {'val_loss': 2.029937505722046}, {'val_loss': 2.0295450687408447}, {'val_loss': 2.0296242237091064}, {'val_loss': 2.0294318199157715}, {'val_loss': 2.0294132232666016}, {'val_loss': 2.029290199279785}, {'val_loss': 2.0285022258758545}, {'val_loss': 2.028738260269165}, {'val_loss': 2.0286035537719727}, {'val_loss': 2.0279998779296875}, {'val_loss': 2.0290868282318115}, {'val_loss': 2.02954363822937}, {'val_loss': 2.0290441513061523}, {'val_loss': 2.027848482131958}, {'val_loss': 2.0279955863952637}, {'val_loss': 2.027338743209839}, {'val_loss': 2.027289390563965}, {'val_loss': 2.0265820026397705}, {'val_loss': 2.0263826847076416}, {'val_loss': 2.0265085697174072}, {'val_loss': 2.026723623275757}, {'val_loss': 2.026571035385132}, {'val_loss': 2.0264525413513184}, {'val_loss': 2.026622772216797}, {'val_loss': 2.0266971588134766}, {'val_loss': 2.0260939598083496}, {'val_loss': 2.0271177291870117}, {'val_loss': 2.027585506439209}, {'val_loss': 2.0269529819488525}, {'val_loss': 2.026972770690918}, {'val_loss': 2.0263869762420654}, {'val_loss': 2.0266799926757812}, {'val_loss': 2.027172803878784}, {'val_loss': 2.027289628982544}, {'val_loss': 2.0274133682250977}, {'val_loss': 2.0282907485961914}, {'val_loss': 2.0278172492980957}, {'val_loss': 2.0271823406219482}, {'val_loss': 2.0262322425842285}, {'val_loss': 2.026987075805664}, {'val_loss': 2.027028799057007}, {'val_loss': 2.0257375240325928}, {'val_loss': 2.0250589847564697}, {'val_loss': 2.0252315998077393}, {'val_loss': 2.025510549545288}, {'val_loss': 2.0249860286712646}, {'val_loss': 2.0247085094451904}, {'val_loss': 2.025301218032837}, {'val_loss': 2.0253169536590576}, {'val_loss': 2.024916887283325}, {'val_loss': 2.0248923301696777}, {'val_loss': 2.024902582168579}, {'val_loss': 2.0248913764953613}, {'val_loss': 2.0249364376068115}, {'val_loss': 2.024955987930298}, {'val_loss': 2.0249288082122803}, {'val_loss': 2.0249340534210205}, {'val_loss': 2.024909734725952}, {'val_loss': 2.0249202251434326}, {'val_loss': 2.0248658657073975}, {'val_loss': 2.024855136871338}, {'val_loss': 2.0248966217041016}, {'val_loss': 2.0248794555664062}, {'val_loss': 2.0248970985412598}, {'val_loss': 2.024836301803589}, {'val_loss': 2.0249061584472656}, {'val_loss': 2.0248677730560303}, {'val_loss': 2.0248968601226807}, {'val_loss': 2.0249431133270264}, {'val_loss': 2.024909734725952}, {'val_loss': 2.024907112121582}, {'val_loss': 2.024902105331421}, {'val_loss': 2.0249147415161133}, {'val_loss': 2.024947166442871}, {'val_loss': 2.024919271469116}, {'val_loss': 2.0249569416046143}, {'val_loss': 2.0248892307281494}, {'val_loss': 2.0249199867248535}, {'val_loss': 2.024822473526001}, {'val_loss': 2.0247883796691895}, {'val_loss': 2.0248358249664307}, {'val_loss': 2.0248043537139893}, {'val_loss': 2.0248446464538574}, {'val_loss': 2.0248141288757324}, {'val_loss': 2.024832248687744}, {'val_loss': 2.0248405933380127}, {'val_loss': 2.0248782634735107}, {'val_loss': 2.0248754024505615}, {'val_loss': 2.02482008934021}, {'val_loss': 2.0248348712921143}, {'val_loss': 2.024857521057129}, {'val_loss': 2.0249228477478027}, {'val_loss': 2.0249500274658203}, {'val_loss': 2.024955987930298}, {'val_loss': 2.0249576568603516}, {'val_loss': 2.024902582168579}, {'val_loss': 2.024831771850586}, {'val_loss': 2.024890661239624}, {'val_loss': 2.0249664783477783}, {'val_loss': 2.024998903274536}, {'val_loss': 2.0248825550079346}, {'val_loss': 2.0248734951019287}, {'val_loss': 2.0249013900756836}, {'val_loss': 2.0249791145324707}, {'val_loss': 2.0249762535095215}, {'val_loss': 2.025002956390381}, {'val_loss': 2.0250349044799805}, {'val_loss': 2.024958610534668}, {'val_loss': 2.024968147277832}, {'val_loss': 2.0250325202941895}, {'val_loss': 2.0250909328460693}, {'val_loss': 2.0250585079193115}, {'val_loss': 2.0250580310821533}, {'val_loss': 2.0250658988952637}, {'val_loss': 2.025001287460327}, {'val_loss': 2.0250086784362793}, {'val_loss': 2.025022029876709}, {'val_loss': 2.0250444412231445}, {'val_loss': 2.0251047611236572}, {'val_loss': 2.0250439643859863}, {'val_loss': 2.0250186920166016}, {'val_loss': 2.02510666847229}, {'val_loss': 2.025108814239502}, {'val_loss': 2.0251221656799316}, {'val_loss': 2.0251243114471436}, {'val_loss': 2.0251660346984863}, {'val_loss': 2.025195360183716}, {'val_loss': 2.0251448154449463}, {'val_loss': 2.0252110958099365}, {'val_loss': 2.0251991748809814}, {'val_loss': 2.025120973587036}, {'val_loss': 2.0251095294952393}, {'val_loss': 2.0250561237335205}, {'val_loss': 2.025019645690918}, {'val_loss': 2.0249266624450684}, {'val_loss': 2.0249528884887695}, {'val_loss': 2.0248897075653076}, {'val_loss': 2.024843692779541}, {'val_loss': 2.0248303413391113}, {'val_loss': 2.0248076915740967}, {'val_loss': 2.0247719287872314}, {'val_loss': 2.02478289604187}, {'val_loss': 2.0247597694396973}, {'val_loss': 2.024754524230957}, {'val_loss': 2.0247418880462646}, {'val_loss': 2.024836778640747}, {'val_loss': 2.0248892307281494}, {'val_loss': 2.024867534637451}, {'val_loss': 2.0248513221740723}, {'val_loss': 2.0248026847839355}, {'val_loss': 2.0248591899871826}, {'val_loss': 2.0248570442199707}, {'val_loss': 2.024850606918335}, {'val_loss': 2.0248615741729736}, {'val_loss': 2.024857759475708}, {'val_loss': 2.024862051010132}, {'val_loss': 2.024867057800293}, {'val_loss': 2.0248630046844482}, {'val_loss': 2.024862051010132}, {'val_loss': 2.024857521057129}, {'val_loss': 2.024854898452759}, {'val_loss': 2.0248470306396484}, {'val_loss': 2.0248517990112305}, {'val_loss': 2.0248477458953857}, {'val_loss': 2.0248405933380127}, {'val_loss': 2.0248379707336426}, {'val_loss': 2.0248286724090576}, {'val_loss': 2.0248301029205322}, {'val_loss': 2.0248301029205322}, {'val_loss': 2.0248219966888428}, {'val_loss': 2.024818181991577}, {'val_loss': 2.0248234272003174}, {'val_loss': 2.0248262882232666}, {'val_loss': 2.0248281955718994}, {'val_loss': 2.0248258113861084}, {'val_loss': 2.0248281955718994}, {'val_loss': 2.024834156036377}, {'val_loss': 2.0248360633850098}, {'val_loss': 2.0248374938964844}, {'val_loss': 2.0248301029205322}, {'val_loss': 2.0248348712921143}, {'val_loss': 2.024834632873535}, {'val_loss': 2.0248239040374756}, {'val_loss': 2.0248162746429443}, {'val_loss': 2.024812936782837}, {'val_loss': 2.0248186588287354}, {'val_loss': 2.024817943572998}, {'val_loss': 2.024815797805786}, {'val_loss': 2.024808645248413}, {'val_loss': 2.0248117446899414}, {'val_loss': 2.02481746673584}, {'val_loss': 2.0248186588287354}, {'val_loss': 2.0248260498046875}, {'val_loss': 2.0248231887817383}, {'val_loss': 2.024824857711792}, {'val_loss': 2.0248284339904785}, {'val_loss': 2.024824619293213}, {'val_loss': 2.0248215198516846}, {'val_loss': 2.024808645248413}, {'val_loss': 2.024807929992676}, {'val_loss': 2.0248072147369385}, {'val_loss': 2.0248031616210938}, {'val_loss': 2.0248024463653564}, {'val_loss': 2.0248095989227295}, {'val_loss': 2.0248045921325684}, {'val_loss': 2.0248100757598877}, {'val_loss': 2.024813652038574}, {'val_loss': 2.024818181991577}, {'val_loss': 2.024825096130371}, {'val_loss': 2.0248289108276367}, {'val_loss': 2.0248348712921143}, {'val_loss': 2.024843454360962}, {'val_loss': 2.0248377323150635}, {'val_loss': 2.02483868598938}, {'val_loss': 2.0248353481292725}, {'val_loss': 2.0248348712921143}, {'val_loss': 2.02482533454895}, {'val_loss': 2.0248260498046875}, {'val_loss': 2.024831771850586}, {'val_loss': 2.0248382091522217}, {'val_loss': 2.0248327255249023}, {'val_loss': 2.0248360633850098}, {'val_loss': 2.0248360633850098}, {'val_loss': 2.024836540222168}, {'val_loss': 2.024832010269165}, {'val_loss': 2.0248360633850098}, {'val_loss': 2.024833917617798}, {'val_loss': 2.024845600128174}, {'val_loss': 2.024841547012329}, {'val_loss': 2.0248520374298096}, {'val_loss': 2.0248537063598633}, {'val_loss': 2.0248544216156006}, {'val_loss': 2.024855613708496}, {'val_loss': 2.024848699569702}, {'val_loss': 2.0248498916625977}, {'val_loss': 2.024848222732544}, {'val_loss': 2.0248422622680664}, {'val_loss': 2.024833917617798}, {'val_loss': 2.0248348712921143}, {'val_loss': 2.024833917617798}, {'val_loss': 2.0248308181762695}, {'val_loss': 2.024832248687744}, {'val_loss': 2.0248301029205322}, {'val_loss': 2.0248310565948486}, {'val_loss': 2.0248310565948486}, {'val_loss': 2.0248234272003174}, {'val_loss': 2.024825096130371}, {'val_loss': 2.024824380874634}, {'val_loss': 2.024829387664795}, {'val_loss': 2.024829864501953}, {'val_loss': 2.024827718734741}]\n"
          ],
          "name": "stdout"
        },
        {
          "output_type": "execute_result",
          "data": {
            "text/plain": [
              "Text(0, 0.5, 'losses')"
            ]
          },
          "metadata": {
            "tags": []
          },
          "execution_count": 51
        },
        {
          "output_type": "display_data",
          "data": {
            "image/png": "[encoded data removed]",
            "text/plain": [
              "<Figure size 432x288 with 1 Axes>"
            ]
          },
          "metadata": {
            "tags": [],
            "needs_background": "light"
          }
        }
      ]
    },
    {
      "cell_type": "code",
      "metadata": {
        "id": "RPDG3OpofO0a"
      },
      "source": [
        "def predict_single(input, target, model):\n",
        "    inputs = input.unsqueeze(0)\n",
        "    predictions = model(inputs)\n",
        "    prediction = predictions[0].detach()\n",
        "    print(\"Input:\", input)\n",
        "    print(\"Target:\", target)\n",
        "    print(\"Prediction:\", prediction)"
      ],
      "execution_count": 52,
      "outputs": []
    },
    {
      "cell_type": "code",
      "metadata": {
        "colab": {
          "base_uri": "https://localhost:8080/"
        },
        "id": "MchviH8qfQIB",
        "outputId": "0bd55126-c6af-4c05-e0bc-9eb18ef60ab4"
      },
      "source": [
        "input, target = val_ds[0]\n",
        "predict_single(input, target, model)"
      ],
      "execution_count": 53,
      "outputs": [
        {
          "output_type": "stream",
          "text": [
            "Input: tensor([13.0000,  5.2500,  2.0000,  0.0000,  1.0000,  1.0000])\n",
            "Target: tensor([5.7000])\n",
            "Prediction: tensor([7.6499])\n"
          ],
          "name": "stdout"
        }
      ]
    },
    {
      "cell_type": "code",
      "metadata": {
        "colab": {
          "base_uri": "https://localhost:8080/"
        },
        "id": "H5mJnJFBfSUB",
        "outputId": "5a4edb6c-33c3-42da-ae83-b3a58aba7cf0"
      },
      "source": [
        "input, target = val_ds[10]\n",
        "predict_single(input, target, model)"
      ],
      "execution_count": 54,
      "outputs": [
        {
          "output_type": "stream",
          "text": [
            "Input: tensor([7.0000, 0.3100, 2.0000, 1.0000, 1.0000, 0.0000])\n",
            "Target: tensor([1.0500])\n",
            "Prediction: tensor([1.2935])\n"
          ],
          "name": "stdout"
        }
      ]
    },
    {
      "cell_type": "code",
      "metadata": {
        "colab": {
          "base_uri": "https://localhost:8080/"
        },
        "id": "xZf0Tl4GfVHS",
        "outputId": "cf756dd2-672a-4e4a-fd96-b283101ac17c"
      },
      "source": [
        "input, target = val_ds[23]\n",
        "predict_single(input, target, model)"
      ],
      "execution_count": 55,
      "outputs": [
        {
          "output_type": "stream",
          "text": [
            "Input: tensor([13.0000,  7.7500,  1.0000,  0.0000,  1.0000,  0.0000])\n",
            "Target: tensor([10.7900])\n",
            "Prediction: tensor([10.6543])\n"
          ],
          "name": "stdout"
        }
      ]
    },
    {
      "cell_type": "markdown",
      "metadata": {
        "id": "sh7svndEVmwq"
      },
      "source": [
        "# Decision Tree\n",
        "Decision tree atau pohon keputusan adalah salah satu algoritma supervised learning yang dapat dipakai untuk masalah klasifikasi dan regresi. Decision tree merupakan algoritma yang powerful alias mampu dipakai dalam masalah yang kompleks. Decision tree juga merupakan komponen pembangun utama algoritma Random Forest, yang merupakan salah satu algoritma paling powerful saat ini.\n",
        "\n",
        "Decision tree memprediksi sebuah kelas (klasifikasi) atau nilai (regresi) berdasarkan aturan-aturan yang dibentuk setelah mempelajari data.\n",
        "\n",
        "Misalnya kita memiliki data seperti di bawah. Data berisi informasi mengenai kondisi cuaca pada hari tertentu dan apakah cocok untuk bermain golf di kondisi cuaca tersebut.\\\n",
        "\n",
        "# Dataset\n",
        "Iris\n"
      ]
    },
    {
      "cell_type": "code",
      "metadata": {
        "id": "urgLXCiUWBiS"
      },
      "source": [
        "import pandas as pd\n",
        "from sklearn.datasets import load_iris\n",
        " \n",
        "# Membaca file IRIS.csv\n",
        "iris = pd.read_csv('/content/IRIS.csv')"
      ],
      "execution_count": 2,
      "outputs": []
    },
    {
      "cell_type": "code",
      "metadata": {
        "colab": {
          "base_uri": "https://localhost:8080/",
          "height": 419
        },
        "id": "eqUe2A7RYSq5",
        "outputId": "925b9e43-5c64-4050-eefe-eb2c75fa4608"
      },
      "source": [
        "display(iris)"
      ],
      "execution_count": 3,
      "outputs": [
        {
          "output_type": "display_data",
          "data": {
            "text/html": [
              "<div>\n",
              "<style scoped>\n",
              "    .dataframe tbody tr th:only-of-type {\n",
              "        vertical-align: middle;\n",
              "    }\n",
              "\n",
              "    .dataframe tbody tr th {\n",
              "        vertical-align: top;\n",
              "    }\n",
              "\n",
              "    .dataframe thead th {\n",
              "        text-align: right;\n",
              "    }\n",
              "</style>\n",
              "<table border=\"1\" class=\"dataframe\">\n",
              "  <thead>\n",
              "    <tr style=\"text-align: right;\">\n",
              "      <th></th>\n",
              "      <th>sepal_length</th>\n",
              "      <th>sepal_width</th>\n",
              "      <th>petal_length</th>\n",
              "      <th>petal_width</th>\n",
              "      <th>species</th>\n",
              "    </tr>\n",
              "  </thead>\n",
              "  <tbody>\n",
              "    <tr>\n",
              "      <th>0</th>\n",
              "      <td>5.1</td>\n",
              "      <td>3.5</td>\n",
              "      <td>1.4</td>\n",
              "      <td>0.2</td>\n",
              "      <td>Iris-setosa</td>\n",
              "    </tr>\n",
              "    <tr>\n",
              "      <th>1</th>\n",
              "      <td>4.9</td>\n",
              "      <td>3.0</td>\n",
              "      <td>1.4</td>\n",
              "      <td>0.2</td>\n",
              "      <td>Iris-setosa</td>\n",
              "    </tr>\n",
              "    <tr>\n",
              "      <th>2</th>\n",
              "      <td>4.7</td>\n",
              "      <td>3.2</td>\n",
              "      <td>1.3</td>\n",
              "      <td>0.2</td>\n",
              "      <td>Iris-setosa</td>\n",
              "    </tr>\n",
              "    <tr>\n",
              "      <th>3</th>\n",
              "      <td>4.6</td>\n",
              "      <td>3.1</td>\n",
              "      <td>1.5</td>\n",
              "      <td>0.2</td>\n",
              "      <td>Iris-setosa</td>\n",
              "    </tr>\n",
              "    <tr>\n",
              "      <th>4</th>\n",
              "      <td>5.0</td>\n",
              "      <td>3.6</td>\n",
              "      <td>1.4</td>\n",
              "      <td>0.2</td>\n",
              "      <td>Iris-setosa</td>\n",
              "    </tr>\n",
              "    <tr>\n",
              "      <th>...</th>\n",
              "      <td>...</td>\n",
              "      <td>...</td>\n",
              "      <td>...</td>\n",
              "      <td>...</td>\n",
              "      <td>...</td>\n",
              "    </tr>\n",
              "    <tr>\n",
              "      <th>145</th>\n",
              "      <td>6.7</td>\n",
              "      <td>3.0</td>\n",
              "      <td>5.2</td>\n",
              "      <td>2.3</td>\n",
              "      <td>Iris-virginica</td>\n",
              "    </tr>\n",
              "    <tr>\n",
              "      <th>146</th>\n",
              "      <td>6.3</td>\n",
              "      <td>2.5</td>\n",
              "      <td>5.0</td>\n",
              "      <td>1.9</td>\n",
              "      <td>Iris-virginica</td>\n",
              "    </tr>\n",
              "    <tr>\n",
              "      <th>147</th>\n",
              "      <td>6.5</td>\n",
              "      <td>3.0</td>\n",
              "      <td>5.2</td>\n",
              "      <td>2.0</td>\n",
              "      <td>Iris-virginica</td>\n",
              "    </tr>\n",
              "    <tr>\n",
              "      <th>148</th>\n",
              "      <td>6.2</td>\n",
              "      <td>3.4</td>\n",
              "      <td>5.4</td>\n",
              "      <td>2.3</td>\n",
              "      <td>Iris-virginica</td>\n",
              "    </tr>\n",
              "    <tr>\n",
              "      <th>149</th>\n",
              "      <td>5.9</td>\n",
              "      <td>3.0</td>\n",
              "      <td>5.1</td>\n",
              "      <td>1.8</td>\n",
              "      <td>Iris-virginica</td>\n",
              "    </tr>\n",
              "  </tbody>\n",
              "</table>\n",
              "<p>150 rows × 5 columns</p>\n",
              "</div>"
            ],
            "text/plain": [
              "     sepal_length  sepal_width  petal_length  petal_width         species\n",
              "0             5.1          3.5           1.4          0.2     Iris-setosa\n",
              "1             4.9          3.0           1.4          0.2     Iris-setosa\n",
              "2             4.7          3.2           1.3          0.2     Iris-setosa\n",
              "3             4.6          3.1           1.5          0.2     Iris-setosa\n",
              "4             5.0          3.6           1.4          0.2     Iris-setosa\n",
              "..            ...          ...           ...          ...             ...\n",
              "145           6.7          3.0           5.2          2.3  Iris-virginica\n",
              "146           6.3          2.5           5.0          1.9  Iris-virginica\n",
              "147           6.5          3.0           5.2          2.0  Iris-virginica\n",
              "148           6.2          3.4           5.4          2.3  Iris-virginica\n",
              "149           5.9          3.0           5.1          1.8  Iris-virginica\n",
              "\n",
              "[150 rows x 5 columns]"
            ]
          },
          "metadata": {
            "tags": []
          }
        }
      ]
    },
    {
      "cell_type": "code",
      "metadata": {
        "id": "rNt7UsaKYZWJ"
      },
      "source": [
        "# memisahkan atribut dan label\n",
        "X = iris[['sepal_length',\t'sepal_width',\t'petal_length'\t,'petal_width']]\n",
        "y = iris['species']"
      ],
      "execution_count": 4,
      "outputs": []
    },
    {
      "cell_type": "code",
      "metadata": {
        "colab": {
          "base_uri": "https://localhost:8080/"
        },
        "id": "Hhh9ukkRYqa5",
        "outputId": "0bd70e6a-ed46-4746-ad0b-493a34c17d61"
      },
      "source": [
        "from sklearn.tree import DecisionTreeClassifier\n",
        " \n",
        "# membuat model Decision Tree\n",
        "tree_model = DecisionTreeClassifier() \n",
        " \n",
        "# melakukan pelatihan model terhadap data\n",
        "tree_model.fit(X, y)"
      ],
      "execution_count": 5,
      "outputs": [
        {
          "output_type": "execute_result",
          "data": {
            "text/plain": [
              "DecisionTreeClassifier(ccp_alpha=0.0, class_weight=None, criterion='gini',\n",
              "                       max_depth=None, max_features=None, max_leaf_nodes=None,\n",
              "                       min_impurity_decrease=0.0, min_impurity_split=None,\n",
              "                       min_samples_leaf=1, min_samples_split=2,\n",
              "                       min_weight_fraction_leaf=0.0, presort='deprecated',\n",
              "                       random_state=None, splitter='best')"
            ]
          },
          "metadata": {
            "tags": []
          },
          "execution_count": 5
        }
      ]
    },
    {
      "cell_type": "code",
      "metadata": {
        "colab": {
          "base_uri": "https://localhost:8080/"
        },
        "id": "wg2BhiCnYtWp",
        "outputId": "4521a385-0484-4ee7-f04d-9b158953d78c"
      },
      "source": [
        "# prediksi model dengan tree_model.predict([[SepalLength, SepalWidth, PetalLength, PetalWidth]])\n",
        "tree_model.predict([[6.2, 3.4, 5.4, 2.3]])"
      ],
      "execution_count": 6,
      "outputs": [
        {
          "output_type": "execute_result",
          "data": {
            "text/plain": [
              "array(['Iris-virginica'], dtype=object)"
            ]
          },
          "metadata": {
            "tags": []
          },
          "execution_count": 6
        }
      ]
    },
    {
      "cell_type": "code",
      "metadata": {
        "id": "6I5-l_xtY2vA"
      },
      "source": [
        "from sklearn.tree import export_graphviz\n",
        "export_graphviz(\n",
        "    tree_model,\n",
        "    out_file = \"iris_tree.dot\",\n",
        "    feature_names = ['SepalLengthCm', 'SepalWidthCm', 'PetalLengthCm', 'PetalWidthCm'],\n",
        "    class_names = ['Iris-setosa', 'Iris-versicolor', 'Iris-virginica' ],\n",
        "    rounded= True,\n",
        "    filled =True\n",
        ")"
      ],
      "execution_count": 7,
      "outputs": []
    },
    {
      "cell_type": "code",
      "metadata": {
        "id": "Ab33EQlhY_hy"
      },
      "source": [
        "#Konversi .dot file to png\n",
        "#https://onlineconvertfree.com/converter/images/"
      ],
      "execution_count": 8,
      "outputs": []
    },
    {
      "cell_type": "markdown",
      "metadata": {
        "id": "qYFsBB-YfrmA"
      },
      "source": [
        "# Logistic Regression\n",
        "Logistic Regression adalah sebuah algoritma klasifikasi untuk mencari hubungan antara fitur (input) diskrit/kontinu dengan probabilitas hasil output diskrit tertentu.\n",
        "\n",
        "# Dataset\n",
        "https://www.kaggle.com/dragonheir/logistic-regression"
      ]
    },
    {
      "cell_type": "code",
      "metadata": {
        "id": "9p2HOTbXgYq4"
      },
      "source": [
        "import pandas as pd\n",
        " \n",
        "# membaca dataset dan mengubahnya menjadi dataframe\n",
        "data = pd.read_csv('/content/Social_Network_Ads.csv')"
      ],
      "execution_count": 56,
      "outputs": []
    },
    {
      "cell_type": "code",
      "metadata": {
        "colab": {
          "base_uri": "https://localhost:8080/",
          "height": 419
        },
        "id": "D1GV-GTUgyLf",
        "outputId": "dea62a39-686e-43cc-cb86-93984c0b33a0"
      },
      "source": [
        "display(data)"
      ],
      "execution_count": 57,
      "outputs": [
        {
          "output_type": "display_data",
          "data": {
            "text/html": [
              "<div>\n",
              "<style scoped>\n",
              "    .dataframe tbody tr th:only-of-type {\n",
              "        vertical-align: middle;\n",
              "    }\n",
              "\n",
              "    .dataframe tbody tr th {\n",
              "        vertical-align: top;\n",
              "    }\n",
              "\n",
              "    .dataframe thead th {\n",
              "        text-align: right;\n",
              "    }\n",
              "</style>\n",
              "<table border=\"1\" class=\"dataframe\">\n",
              "  <thead>\n",
              "    <tr style=\"text-align: right;\">\n",
              "      <th></th>\n",
              "      <th>User ID</th>\n",
              "      <th>Gender</th>\n",
              "      <th>Age</th>\n",
              "      <th>EstimatedSalary</th>\n",
              "      <th>Purchased</th>\n",
              "    </tr>\n",
              "  </thead>\n",
              "  <tbody>\n",
              "    <tr>\n",
              "      <th>0</th>\n",
              "      <td>15624510</td>\n",
              "      <td>Male</td>\n",
              "      <td>19</td>\n",
              "      <td>19000</td>\n",
              "      <td>0</td>\n",
              "    </tr>\n",
              "    <tr>\n",
              "      <th>1</th>\n",
              "      <td>15810944</td>\n",
              "      <td>Male</td>\n",
              "      <td>35</td>\n",
              "      <td>20000</td>\n",
              "      <td>0</td>\n",
              "    </tr>\n",
              "    <tr>\n",
              "      <th>2</th>\n",
              "      <td>15668575</td>\n",
              "      <td>Female</td>\n",
              "      <td>26</td>\n",
              "      <td>43000</td>\n",
              "      <td>0</td>\n",
              "    </tr>\n",
              "    <tr>\n",
              "      <th>3</th>\n",
              "      <td>15603246</td>\n",
              "      <td>Female</td>\n",
              "      <td>27</td>\n",
              "      <td>57000</td>\n",
              "      <td>0</td>\n",
              "    </tr>\n",
              "    <tr>\n",
              "      <th>4</th>\n",
              "      <td>15804002</td>\n",
              "      <td>Male</td>\n",
              "      <td>19</td>\n",
              "      <td>76000</td>\n",
              "      <td>0</td>\n",
              "    </tr>\n",
              "    <tr>\n",
              "      <th>...</th>\n",
              "      <td>...</td>\n",
              "      <td>...</td>\n",
              "      <td>...</td>\n",
              "      <td>...</td>\n",
              "      <td>...</td>\n",
              "    </tr>\n",
              "    <tr>\n",
              "      <th>395</th>\n",
              "      <td>15691863</td>\n",
              "      <td>Female</td>\n",
              "      <td>46</td>\n",
              "      <td>41000</td>\n",
              "      <td>1</td>\n",
              "    </tr>\n",
              "    <tr>\n",
              "      <th>396</th>\n",
              "      <td>15706071</td>\n",
              "      <td>Male</td>\n",
              "      <td>51</td>\n",
              "      <td>23000</td>\n",
              "      <td>1</td>\n",
              "    </tr>\n",
              "    <tr>\n",
              "      <th>397</th>\n",
              "      <td>15654296</td>\n",
              "      <td>Female</td>\n",
              "      <td>50</td>\n",
              "      <td>20000</td>\n",
              "      <td>1</td>\n",
              "    </tr>\n",
              "    <tr>\n",
              "      <th>398</th>\n",
              "      <td>15755018</td>\n",
              "      <td>Male</td>\n",
              "      <td>36</td>\n",
              "      <td>33000</td>\n",
              "      <td>0</td>\n",
              "    </tr>\n",
              "    <tr>\n",
              "      <th>399</th>\n",
              "      <td>15594041</td>\n",
              "      <td>Female</td>\n",
              "      <td>49</td>\n",
              "      <td>36000</td>\n",
              "      <td>1</td>\n",
              "    </tr>\n",
              "  </tbody>\n",
              "</table>\n",
              "<p>400 rows × 5 columns</p>\n",
              "</div>"
            ],
            "text/plain": [
              "      User ID  Gender  Age  EstimatedSalary  Purchased\n",
              "0    15624510    Male   19            19000          0\n",
              "1    15810944    Male   35            20000          0\n",
              "2    15668575  Female   26            43000          0\n",
              "3    15603246  Female   27            57000          0\n",
              "4    15804002    Male   19            76000          0\n",
              "..        ...     ...  ...              ...        ...\n",
              "395  15691863  Female   46            41000          1\n",
              "396  15706071    Male   51            23000          1\n",
              "397  15654296  Female   50            20000          1\n",
              "398  15755018    Male   36            33000          0\n",
              "399  15594041  Female   49            36000          1\n",
              "\n",
              "[400 rows x 5 columns]"
            ]
          },
          "metadata": {
            "tags": []
          }
        }
      ]
    },
    {
      "cell_type": "code",
      "metadata": {
        "colab": {
          "base_uri": "https://localhost:8080/"
        },
        "id": "FmpAp9Hyg1K_",
        "outputId": "1c3f539a-b23f-4dff-bc06-b510dee3b26a"
      },
      "source": [
        "data.info()"
      ],
      "execution_count": 59,
      "outputs": [
        {
          "output_type": "stream",
          "text": [
            "<class 'pandas.core.frame.DataFrame'>\n",
            "RangeIndex: 400 entries, 0 to 399\n",
            "Data columns (total 5 columns):\n",
            " #   Column           Non-Null Count  Dtype \n",
            "---  ------           --------------  ----- \n",
            " 0   User ID          400 non-null    int64 \n",
            " 1   Gender           400 non-null    object\n",
            " 2   Age              400 non-null    int64 \n",
            " 3   EstimatedSalary  400 non-null    int64 \n",
            " 4   Purchased        400 non-null    int64 \n",
            "dtypes: int64(4), object(1)\n",
            "memory usage: 15.8+ KB\n"
          ],
          "name": "stdout"
        }
      ]
    },
    {
      "cell_type": "code",
      "metadata": {
        "colab": {
          "base_uri": "https://localhost:8080/",
          "height": 419
        },
        "id": "7HVTVcnBg9Cn",
        "outputId": "97bc5c53-d585-4eb3-d2ca-ee46e46abeeb"
      },
      "source": [
        "# drop kolom yang tidak diperlukan\n",
        "data = data.drop(columns=['User ID'])\n",
        " \n",
        "# jalankan proses one-hot encoding dengan pd.get_dummies()\n",
        "data = pd.get_dummies(data)\n",
        "data"
      ],
      "execution_count": 61,
      "outputs": [
        {
          "output_type": "execute_result",
          "data": {
            "text/html": [
              "<div>\n",
              "<style scoped>\n",
              "    .dataframe tbody tr th:only-of-type {\n",
              "        vertical-align: middle;\n",
              "    }\n",
              "\n",
              "    .dataframe tbody tr th {\n",
              "        vertical-align: top;\n",
              "    }\n",
              "\n",
              "    .dataframe thead th {\n",
              "        text-align: right;\n",
              "    }\n",
              "</style>\n",
              "<table border=\"1\" class=\"dataframe\">\n",
              "  <thead>\n",
              "    <tr style=\"text-align: right;\">\n",
              "      <th></th>\n",
              "      <th>Age</th>\n",
              "      <th>EstimatedSalary</th>\n",
              "      <th>Purchased</th>\n",
              "      <th>Gender_Female</th>\n",
              "      <th>Gender_Male</th>\n",
              "    </tr>\n",
              "  </thead>\n",
              "  <tbody>\n",
              "    <tr>\n",
              "      <th>0</th>\n",
              "      <td>19</td>\n",
              "      <td>19000</td>\n",
              "      <td>0</td>\n",
              "      <td>0</td>\n",
              "      <td>1</td>\n",
              "    </tr>\n",
              "    <tr>\n",
              "      <th>1</th>\n",
              "      <td>35</td>\n",
              "      <td>20000</td>\n",
              "      <td>0</td>\n",
              "      <td>0</td>\n",
              "      <td>1</td>\n",
              "    </tr>\n",
              "    <tr>\n",
              "      <th>2</th>\n",
              "      <td>26</td>\n",
              "      <td>43000</td>\n",
              "      <td>0</td>\n",
              "      <td>1</td>\n",
              "      <td>0</td>\n",
              "    </tr>\n",
              "    <tr>\n",
              "      <th>3</th>\n",
              "      <td>27</td>\n",
              "      <td>57000</td>\n",
              "      <td>0</td>\n",
              "      <td>1</td>\n",
              "      <td>0</td>\n",
              "    </tr>\n",
              "    <tr>\n",
              "      <th>4</th>\n",
              "      <td>19</td>\n",
              "      <td>76000</td>\n",
              "      <td>0</td>\n",
              "      <td>0</td>\n",
              "      <td>1</td>\n",
              "    </tr>\n",
              "    <tr>\n",
              "      <th>...</th>\n",
              "      <td>...</td>\n",
              "      <td>...</td>\n",
              "      <td>...</td>\n",
              "      <td>...</td>\n",
              "      <td>...</td>\n",
              "    </tr>\n",
              "    <tr>\n",
              "      <th>395</th>\n",
              "      <td>46</td>\n",
              "      <td>41000</td>\n",
              "      <td>1</td>\n",
              "      <td>1</td>\n",
              "      <td>0</td>\n",
              "    </tr>\n",
              "    <tr>\n",
              "      <th>396</th>\n",
              "      <td>51</td>\n",
              "      <td>23000</td>\n",
              "      <td>1</td>\n",
              "      <td>0</td>\n",
              "      <td>1</td>\n",
              "    </tr>\n",
              "    <tr>\n",
              "      <th>397</th>\n",
              "      <td>50</td>\n",
              "      <td>20000</td>\n",
              "      <td>1</td>\n",
              "      <td>1</td>\n",
              "      <td>0</td>\n",
              "    </tr>\n",
              "    <tr>\n",
              "      <th>398</th>\n",
              "      <td>36</td>\n",
              "      <td>33000</td>\n",
              "      <td>0</td>\n",
              "      <td>0</td>\n",
              "      <td>1</td>\n",
              "    </tr>\n",
              "    <tr>\n",
              "      <th>399</th>\n",
              "      <td>49</td>\n",
              "      <td>36000</td>\n",
              "      <td>1</td>\n",
              "      <td>1</td>\n",
              "      <td>0</td>\n",
              "    </tr>\n",
              "  </tbody>\n",
              "</table>\n",
              "<p>400 rows × 5 columns</p>\n",
              "</div>"
            ],
            "text/plain": [
              "     Age  EstimatedSalary  Purchased  Gender_Female  Gender_Male\n",
              "0     19            19000          0              0            1\n",
              "1     35            20000          0              0            1\n",
              "2     26            43000          0              1            0\n",
              "3     27            57000          0              1            0\n",
              "4     19            76000          0              0            1\n",
              "..   ...              ...        ...            ...          ...\n",
              "395   46            41000          1              1            0\n",
              "396   51            23000          1              0            1\n",
              "397   50            20000          1              1            0\n",
              "398   36            33000          0              0            1\n",
              "399   49            36000          1              1            0\n",
              "\n",
              "[400 rows x 5 columns]"
            ]
          },
          "metadata": {
            "tags": []
          },
          "execution_count": 61
        }
      ]
    },
    {
      "cell_type": "code",
      "metadata": {
        "id": "odo1NX41hBAw"
      },
      "source": [
        "# pisahkan atribut dan label\n",
        "predictions = ['Age' , 'EstimatedSalary' , 'Gender_Female' , 'Gender_Male']\n",
        "X = data[predictions]\n",
        "y = data['Purchased'] "
      ],
      "execution_count": 62,
      "outputs": []
    },
    {
      "cell_type": "code",
      "metadata": {
        "colab": {
          "base_uri": "https://localhost:8080/",
          "height": 204
        },
        "id": "tQBWCJlqhEVv",
        "outputId": "fa60eed7-a1ba-4c52-ce6a-97470b293493"
      },
      "source": [
        "# lakukan normalisasi terhadap data yang kita miliki\n",
        "from sklearn.preprocessing import StandardScaler\n",
        "scaler = StandardScaler()\n",
        "scaler.fit(X)\n",
        "scaled_data = scaler.transform(X)\n",
        "scaled_data = pd.DataFrame(scaled_data, columns= X.columns)\n",
        "scaled_data.head()"
      ],
      "execution_count": 63,
      "outputs": [
        {
          "output_type": "execute_result",
          "data": {
            "text/html": [
              "<div>\n",
              "<style scoped>\n",
              "    .dataframe tbody tr th:only-of-type {\n",
              "        vertical-align: middle;\n",
              "    }\n",
              "\n",
              "    .dataframe tbody tr th {\n",
              "        vertical-align: top;\n",
              "    }\n",
              "\n",
              "    .dataframe thead th {\n",
              "        text-align: right;\n",
              "    }\n",
              "</style>\n",
              "<table border=\"1\" class=\"dataframe\">\n",
              "  <thead>\n",
              "    <tr style=\"text-align: right;\">\n",
              "      <th></th>\n",
              "      <th>Age</th>\n",
              "      <th>EstimatedSalary</th>\n",
              "      <th>Gender_Female</th>\n",
              "      <th>Gender_Male</th>\n",
              "    </tr>\n",
              "  </thead>\n",
              "  <tbody>\n",
              "    <tr>\n",
              "      <th>0</th>\n",
              "      <td>-1.781797</td>\n",
              "      <td>-1.490046</td>\n",
              "      <td>-1.020204</td>\n",
              "      <td>1.020204</td>\n",
              "    </tr>\n",
              "    <tr>\n",
              "      <th>1</th>\n",
              "      <td>-0.253587</td>\n",
              "      <td>-1.460681</td>\n",
              "      <td>-1.020204</td>\n",
              "      <td>1.020204</td>\n",
              "    </tr>\n",
              "    <tr>\n",
              "      <th>2</th>\n",
              "      <td>-1.113206</td>\n",
              "      <td>-0.785290</td>\n",
              "      <td>0.980196</td>\n",
              "      <td>-0.980196</td>\n",
              "    </tr>\n",
              "    <tr>\n",
              "      <th>3</th>\n",
              "      <td>-1.017692</td>\n",
              "      <td>-0.374182</td>\n",
              "      <td>0.980196</td>\n",
              "      <td>-0.980196</td>\n",
              "    </tr>\n",
              "    <tr>\n",
              "      <th>4</th>\n",
              "      <td>-1.781797</td>\n",
              "      <td>0.183751</td>\n",
              "      <td>-1.020204</td>\n",
              "      <td>1.020204</td>\n",
              "    </tr>\n",
              "  </tbody>\n",
              "</table>\n",
              "</div>"
            ],
            "text/plain": [
              "        Age  EstimatedSalary  Gender_Female  Gender_Male\n",
              "0 -1.781797        -1.490046      -1.020204     1.020204\n",
              "1 -0.253587        -1.460681      -1.020204     1.020204\n",
              "2 -1.113206        -0.785290       0.980196    -0.980196\n",
              "3 -1.017692        -0.374182       0.980196    -0.980196\n",
              "4 -1.781797         0.183751      -1.020204     1.020204"
            ]
          },
          "metadata": {
            "tags": []
          },
          "execution_count": 63
        }
      ]
    },
    {
      "cell_type": "code",
      "metadata": {
        "id": "gJv9ycY9hHF_"
      },
      "source": [
        "from sklearn.model_selection import train_test_split\n",
        " \n",
        "# bagi data menjadi train dan test untuk setiap atribut dan label\n",
        "X_train, X_test, y_train, y_test = train_test_split(scaled_data, y, test_size=0.2, random_state=1)"
      ],
      "execution_count": 64,
      "outputs": []
    },
    {
      "cell_type": "code",
      "metadata": {
        "colab": {
          "base_uri": "https://localhost:8080/"
        },
        "id": "omWn1bq9hJuv",
        "outputId": "0192b1c1-ae56-45ea-aef7-1315c1a5a326"
      },
      "source": [
        "from sklearn import linear_model\n",
        " \n",
        "# latih model dengan fungsi fit\n",
        "model = linear_model.LogisticRegression()\n",
        "model.fit(X_train, y_train)"
      ],
      "execution_count": 65,
      "outputs": [
        {
          "output_type": "execute_result",
          "data": {
            "text/plain": [
              "LogisticRegression(C=1.0, class_weight=None, dual=False, fit_intercept=True,\n",
              "                   intercept_scaling=1, l1_ratio=None, max_iter=100,\n",
              "                   multi_class='auto', n_jobs=None, penalty='l2',\n",
              "                   random_state=None, solver='lbfgs', tol=0.0001, verbose=0,\n",
              "                   warm_start=False)"
            ]
          },
          "metadata": {
            "tags": []
          },
          "execution_count": 65
        }
      ]
    },
    {
      "cell_type": "code",
      "metadata": {
        "colab": {
          "base_uri": "https://localhost:8080/"
        },
        "id": "xV46r-xAhOMQ",
        "outputId": "b0ccb7ad-341c-4783-8ddb-ef1491d4b073"
      },
      "source": [
        "from sklearn.preprocessing import StandardScaler\n",
        " \n",
        "# uji akurasi model\n",
        "model.score(X_test, y_test)"
      ],
      "execution_count": 66,
      "outputs": [
        {
          "output_type": "execute_result",
          "data": {
            "text/plain": [
              "0.825"
            ]
          },
          "metadata": {
            "tags": []
          },
          "execution_count": 66
        }
      ]
    },
    {
      "cell_type": "markdown",
      "metadata": {
        "id": "ovfq8d0DUatj"
      },
      "source": [
        "# SVM\n",
        "\n",
        "Apa itu SVM?\n",
        "\n",
        "Support Vector Machine adalah model ML multifungsi yang dapat digunakan untuk menyelesaikan permasalahan klasifikasi, regresi, dan pendeteksian outlier. Termasuk ke dalam kategori supervised learning, SVM adalah salah satu metode yang paling populer dalam machine learning. Siapa pun yang tertarik untuk masuk ke dalam dunia ML, perlu mengetahui SVM.\n",
        "\n",
        "# Dataset\n",
        "https://www.kaggle.com/uciml/pima-indians-diabetes-database"
      ]
    },
    {
      "cell_type": "code",
      "metadata": {
        "colab": {
          "base_uri": "https://localhost:8080/",
          "height": 419
        },
        "id": "1kjMw0iYUOtc",
        "outputId": "eaa7420c-952d-4088-e501-332049e736a9"
      },
      "source": [
        "#Import Libraries\n",
        "import pandas as pd\n",
        "df = pd.read_csv('/content/diabetes.csv')\n",
        "df"
      ],
      "execution_count": 67,
      "outputs": [
        {
          "output_type": "execute_result",
          "data": {
            "text/html": [
              "<div>\n",
              "<style scoped>\n",
              "    .dataframe tbody tr th:only-of-type {\n",
              "        vertical-align: middle;\n",
              "    }\n",
              "\n",
              "    .dataframe tbody tr th {\n",
              "        vertical-align: top;\n",
              "    }\n",
              "\n",
              "    .dataframe thead th {\n",
              "        text-align: right;\n",
              "    }\n",
              "</style>\n",
              "<table border=\"1\" class=\"dataframe\">\n",
              "  <thead>\n",
              "    <tr style=\"text-align: right;\">\n",
              "      <th></th>\n",
              "      <th>Pregnancies</th>\n",
              "      <th>Glucose</th>\n",
              "      <th>BloodPressure</th>\n",
              "      <th>SkinThickness</th>\n",
              "      <th>Insulin</th>\n",
              "      <th>BMI</th>\n",
              "      <th>DiabetesPedigreeFunction</th>\n",
              "      <th>Age</th>\n",
              "      <th>Outcome</th>\n",
              "    </tr>\n",
              "  </thead>\n",
              "  <tbody>\n",
              "    <tr>\n",
              "      <th>0</th>\n",
              "      <td>6</td>\n",
              "      <td>148</td>\n",
              "      <td>72</td>\n",
              "      <td>35</td>\n",
              "      <td>0</td>\n",
              "      <td>33.6</td>\n",
              "      <td>0.627</td>\n",
              "      <td>50</td>\n",
              "      <td>1</td>\n",
              "    </tr>\n",
              "    <tr>\n",
              "      <th>1</th>\n",
              "      <td>1</td>\n",
              "      <td>85</td>\n",
              "      <td>66</td>\n",
              "      <td>29</td>\n",
              "      <td>0</td>\n",
              "      <td>26.6</td>\n",
              "      <td>0.351</td>\n",
              "      <td>31</td>\n",
              "      <td>0</td>\n",
              "    </tr>\n",
              "    <tr>\n",
              "      <th>2</th>\n",
              "      <td>8</td>\n",
              "      <td>183</td>\n",
              "      <td>64</td>\n",
              "      <td>0</td>\n",
              "      <td>0</td>\n",
              "      <td>23.3</td>\n",
              "      <td>0.672</td>\n",
              "      <td>32</td>\n",
              "      <td>1</td>\n",
              "    </tr>\n",
              "    <tr>\n",
              "      <th>3</th>\n",
              "      <td>1</td>\n",
              "      <td>89</td>\n",
              "      <td>66</td>\n",
              "      <td>23</td>\n",
              "      <td>94</td>\n",
              "      <td>28.1</td>\n",
              "      <td>0.167</td>\n",
              "      <td>21</td>\n",
              "      <td>0</td>\n",
              "    </tr>\n",
              "    <tr>\n",
              "      <th>4</th>\n",
              "      <td>0</td>\n",
              "      <td>137</td>\n",
              "      <td>40</td>\n",
              "      <td>35</td>\n",
              "      <td>168</td>\n",
              "      <td>43.1</td>\n",
              "      <td>2.288</td>\n",
              "      <td>33</td>\n",
              "      <td>1</td>\n",
              "    </tr>\n",
              "    <tr>\n",
              "      <th>...</th>\n",
              "      <td>...</td>\n",
              "      <td>...</td>\n",
              "      <td>...</td>\n",
              "      <td>...</td>\n",
              "      <td>...</td>\n",
              "      <td>...</td>\n",
              "      <td>...</td>\n",
              "      <td>...</td>\n",
              "      <td>...</td>\n",
              "    </tr>\n",
              "    <tr>\n",
              "      <th>763</th>\n",
              "      <td>10</td>\n",
              "      <td>101</td>\n",
              "      <td>76</td>\n",
              "      <td>48</td>\n",
              "      <td>180</td>\n",
              "      <td>32.9</td>\n",
              "      <td>0.171</td>\n",
              "      <td>63</td>\n",
              "      <td>0</td>\n",
              "    </tr>\n",
              "    <tr>\n",
              "      <th>764</th>\n",
              "      <td>2</td>\n",
              "      <td>122</td>\n",
              "      <td>70</td>\n",
              "      <td>27</td>\n",
              "      <td>0</td>\n",
              "      <td>36.8</td>\n",
              "      <td>0.340</td>\n",
              "      <td>27</td>\n",
              "      <td>0</td>\n",
              "    </tr>\n",
              "    <tr>\n",
              "      <th>765</th>\n",
              "      <td>5</td>\n",
              "      <td>121</td>\n",
              "      <td>72</td>\n",
              "      <td>23</td>\n",
              "      <td>112</td>\n",
              "      <td>26.2</td>\n",
              "      <td>0.245</td>\n",
              "      <td>30</td>\n",
              "      <td>0</td>\n",
              "    </tr>\n",
              "    <tr>\n",
              "      <th>766</th>\n",
              "      <td>1</td>\n",
              "      <td>126</td>\n",
              "      <td>60</td>\n",
              "      <td>0</td>\n",
              "      <td>0</td>\n",
              "      <td>30.1</td>\n",
              "      <td>0.349</td>\n",
              "      <td>47</td>\n",
              "      <td>1</td>\n",
              "    </tr>\n",
              "    <tr>\n",
              "      <th>767</th>\n",
              "      <td>1</td>\n",
              "      <td>93</td>\n",
              "      <td>70</td>\n",
              "      <td>31</td>\n",
              "      <td>0</td>\n",
              "      <td>30.4</td>\n",
              "      <td>0.315</td>\n",
              "      <td>23</td>\n",
              "      <td>0</td>\n",
              "    </tr>\n",
              "  </tbody>\n",
              "</table>\n",
              "<p>768 rows × 9 columns</p>\n",
              "</div>"
            ],
            "text/plain": [
              "     Pregnancies  Glucose  ...  Age  Outcome\n",
              "0              6      148  ...   50        1\n",
              "1              1       85  ...   31        0\n",
              "2              8      183  ...   32        1\n",
              "3              1       89  ...   21        0\n",
              "4              0      137  ...   33        1\n",
              "..           ...      ...  ...  ...      ...\n",
              "763           10      101  ...   63        0\n",
              "764            2      122  ...   27        0\n",
              "765            5      121  ...   30        0\n",
              "766            1      126  ...   47        1\n",
              "767            1       93  ...   23        0\n",
              "\n",
              "[768 rows x 9 columns]"
            ]
          },
          "metadata": {
            "tags": []
          },
          "execution_count": 67
        }
      ]
    },
    {
      "cell_type": "code",
      "metadata": {
        "id": "hmk5aPvgiIlB"
      },
      "source": [
        "# memisahkan atribut pada dataset dan menyimpannya pada sebuah variabel\n",
        "X = df[df.columns[:8]]\n",
        " \n",
        "# memisahkan label pada dataset dan menyimpannya pada sebuah variabel\n",
        "y = df['Outcome']"
      ],
      "execution_count": 68,
      "outputs": []
    },
    {
      "cell_type": "code",
      "metadata": {
        "id": "9-hcXweMiUh-"
      },
      "source": [
        "# memisahkan atribut pada dataset dan menyimpannya pada sebuah variabel\n",
        "X = df[df.columns[:8]]\n",
        " \n",
        "# memisahkan label pada dataset dan menyimpannya pada sebuah variabel\n",
        "y = df['Outcome']"
      ],
      "execution_count": 69,
      "outputs": []
    },
    {
      "cell_type": "code",
      "metadata": {
        "id": "VibSWkdgiW6W"
      },
      "source": [
        "from sklearn.model_selection import train_test_split\n",
        " \n",
        "# memisahkan data untuk training dan testing\n",
        "X_train, X_test, y_train, y_test = train_test_split(\n",
        "    X, y, test_size=0.33, random_state=42)"
      ],
      "execution_count": 70,
      "outputs": []
    },
    {
      "cell_type": "code",
      "metadata": {
        "colab": {
          "base_uri": "https://localhost:8080/"
        },
        "id": "8ljcMMubiY1A",
        "outputId": "70032f05-3225-40ff-9fb3-db4590a3e6a9"
      },
      "source": [
        "from sklearn.svm import SVC\n",
        " \n",
        "# membuat objek SVC dan memanggil fungsi fit untuk melatih model\n",
        "clf = SVC()\n",
        "clf.fit(X_train, y_train)"
      ],
      "execution_count": 71,
      "outputs": [
        {
          "output_type": "execute_result",
          "data": {
            "text/plain": [
              "SVC(C=1.0, break_ties=False, cache_size=200, class_weight=None, coef0=0.0,\n",
              "    decision_function_shape='ovr', degree=3, gamma='scale', kernel='rbf',\n",
              "    max_iter=-1, probability=False, random_state=None, shrinking=True,\n",
              "    tol=0.001, verbose=False)"
            ]
          },
          "metadata": {
            "tags": []
          },
          "execution_count": 71
        }
      ]
    },
    {
      "cell_type": "code",
      "metadata": {
        "colab": {
          "base_uri": "https://localhost:8080/"
        },
        "id": "tlAwcf_wiaiG",
        "outputId": "d2245e95-81df-43c8-c9c7-06fb3b9cb6f4"
      },
      "source": [
        "# Menampilkan skor akurasi prediksi\n",
        "clf.score(X_test, y_test)"
      ],
      "execution_count": 72,
      "outputs": [
        {
          "output_type": "execute_result",
          "data": {
            "text/plain": [
              "0.7440944881889764"
            ]
          },
          "metadata": {
            "tags": []
          },
          "execution_count": 72
        }
      ]
    },
    {
      "cell_type": "markdown",
      "metadata": {
        "id": "txo6YJfGinbl"
      },
      "source": [
        "# Random Forest\n",
        "\n",
        "Random forest adalah metode pembelajaran ensemble untuk klasifikasi, regresi dan tugas-tugas lain yang beroperasi dengan membangun banyak pohon keputusan pada waktu pelatihan. Untuk tugas klasifikasi, output dari hutan acak adalah kelas yang dipilih oleh sebagian besar pohon. Untuk tugas regresi, prediksi rata-rata atau rata-rata dari masing-masing pohon dikembalikan. Hutan keputusan acak benar untuk kebiasaan pohon keputusan yang terlalu pas dengan set pelatihan mereka. Hutan acak umumnya mengungguli pohon keputusan, tetapi akurasinya lebih rendah daripada pohon yang didorong gradien. Namun, karakteristik data dapat memengaruhi kinerjanya.\n",
        "\n",
        "#Example\n",
        "\n",
        "Prediksi kandidat mana yang dapat diterima ke universitas bergengsi\n",
        "\n",
        "ada 3 kemungkinan yang terjadi\n",
        "\n",
        "kandidat tak diterima direpresentasikan dengan nilai 0\n",
        "\n",
        "kandidat masih dalam daftar tunggu penerimaan direpresentasikan dengan nilai 1\n",
        "\n",
        "kandidat diterima direpresentasikan dengan nilai 2"
      ]
    },
    {
      "cell_type": "code",
      "metadata": {
        "id": "NqbtOKdmjWJZ"
      },
      "source": [
        "import pandas as pd\n",
        "from sklearn.model_selection import train_test_split\n",
        "from sklearn.ensemble import RandomForestClassifier\n",
        "from sklearn import metrics\n",
        "import seaborn as sn\n",
        "import matplotlib.pyplot as plt"
      ],
      "execution_count": 73,
      "outputs": []
    },
    {
      "cell_type": "code",
      "metadata": {
        "colab": {
          "base_uri": "https://localhost:8080/"
        },
        "id": "L7RxNCbSjXE4",
        "outputId": "044164f6-cb3c-402f-d994-d4010f03f6d6"
      },
      "source": [
        "import pandas as pd\n",
        "\n",
        "candidates = {'gmat': [780,750,690,710,780,730,690,720,740,690,610,690,710,680,770,610,580,650,540,590,620,600,550,550,570,670,660,580,650,760,640,620,660,660,680,650,670,580,590,790],\n",
        "              'gpa': [4,3.9,3.3,3.7,3.9,3.7,2.3,3.3,3.3,1.7,2.7,3.7,3.7,3.3,3.3,3,2.7,3.7,2.7,2.3,3.3,2,2.3,2.7,3,3.3,3.7,2.3,3.7,3.3,3,2.7,4,3.3,3.3,2.3,2.7,3.3,1.7,3.7],\n",
        "              'work_experience': [3,4,3,5,4,6,1,4,5,1,3,5,6,4,3,1,4,6,2,3,2,1,4,1,2,6,4,2,6,5,1,2,4,6,5,1,2,1,4,5],\n",
        "              'age': [25,28,24,27,26,31,24,25,28,23,25,27,30,28,26,23,29,31,26,26,25,24,28,23,25,29,28,26,30,30,23,24,27,29,28,22,23,24,28,31],\n",
        "              'admitted': [2,2,1,2,2,2,0,2,2,0,0,2,2,1,2,0,0,1,0,0,1,0,0,0,0,1,1,0,1,2,0,0,1,1,1,0,0,0,0,2]\n",
        "              }\n",
        "\n",
        "df = pd.DataFrame(candidates,columns= ['gmat', 'gpa','work_experience','age','admitted'])\n",
        "print (df)"
      ],
      "execution_count": 74,
      "outputs": [
        {
          "output_type": "stream",
          "text": [
            "    gmat  gpa  work_experience  age  admitted\n",
            "0    780  4.0                3   25         2\n",
            "1    750  3.9                4   28         2\n",
            "2    690  3.3                3   24         1\n",
            "3    710  3.7                5   27         2\n",
            "4    780  3.9                4   26         2\n",
            "5    730  3.7                6   31         2\n",
            "6    690  2.3                1   24         0\n",
            "7    720  3.3                4   25         2\n",
            "8    740  3.3                5   28         2\n",
            "9    690  1.7                1   23         0\n",
            "10   610  2.7                3   25         0\n",
            "11   690  3.7                5   27         2\n",
            "12   710  3.7                6   30         2\n",
            "13   680  3.3                4   28         1\n",
            "14   770  3.3                3   26         2\n",
            "15   610  3.0                1   23         0\n",
            "16   580  2.7                4   29         0\n",
            "17   650  3.7                6   31         1\n",
            "18   540  2.7                2   26         0\n",
            "19   590  2.3                3   26         0\n",
            "20   620  3.3                2   25         1\n",
            "21   600  2.0                1   24         0\n",
            "22   550  2.3                4   28         0\n",
            "23   550  2.7                1   23         0\n",
            "24   570  3.0                2   25         0\n",
            "25   670  3.3                6   29         1\n",
            "26   660  3.7                4   28         1\n",
            "27   580  2.3                2   26         0\n",
            "28   650  3.7                6   30         1\n",
            "29   760  3.3                5   30         2\n",
            "30   640  3.0                1   23         0\n",
            "31   620  2.7                2   24         0\n",
            "32   660  4.0                4   27         1\n",
            "33   660  3.3                6   29         1\n",
            "34   680  3.3                5   28         1\n",
            "35   650  2.3                1   22         0\n",
            "36   670  2.7                2   23         0\n",
            "37   580  3.3                1   24         0\n",
            "38   590  1.7                4   28         0\n",
            "39   790  3.7                5   31         2\n"
          ],
          "name": "stdout"
        }
      ]
    },
    {
      "cell_type": "code",
      "metadata": {
        "id": "qen-9lKZlzC4"
      },
      "source": [
        "df = df.replace({'admitted': 2}, 'Diterima')\n",
        "df = df.replace({'admitted': 1}, 'Mohon menunggu')\n",
        "df = df.replace({'admitted': 0}, 'Ditolak')"
      ],
      "execution_count": 91,
      "outputs": []
    },
    {
      "cell_type": "code",
      "metadata": {
        "id": "ayKD--wsjmf_"
      },
      "source": [
        "X = df[['gmat', 'gpa','work_experience','age']]\n",
        "y = df['admitted']"
      ],
      "execution_count": 92,
      "outputs": []
    },
    {
      "cell_type": "code",
      "metadata": {
        "id": "rRSWAxcVjojf"
      },
      "source": [
        "X_train,X_test,y_train,y_test = train_test_split(X,y,test_size=0.25,random_state=0)"
      ],
      "execution_count": 93,
      "outputs": []
    },
    {
      "cell_type": "code",
      "metadata": {
        "id": "eKhpQS_6jrfv"
      },
      "source": [
        "clf = RandomForestClassifier(n_estimators=100)\n",
        "clf.fit(X_train,y_train)\n",
        "y_pred=clf.predict(X_test)"
      ],
      "execution_count": 94,
      "outputs": []
    },
    {
      "cell_type": "code",
      "metadata": {
        "colab": {
          "base_uri": "https://localhost:8080/",
          "height": 320
        },
        "id": "OCl4Vli_jw_H",
        "outputId": "57a2659b-9846-4ca5-8818-aa7e735a31c3"
      },
      "source": [
        "confusion_matrix = pd.crosstab(y_test, y_pred, rownames=['Actual'], colnames=['Predicted'])\n",
        "sn.heatmap(confusion_matrix, annot=True)"
      ],
      "execution_count": 95,
      "outputs": [
        {
          "output_type": "execute_result",
          "data": {
            "text/plain": [
              "<matplotlib.axes._subplots.AxesSubplot at 0x7faa09db85d0>"
            ]
          },
          "metadata": {
            "tags": []
          },
          "execution_count": 95
        },
        {
          "output_type": "display_data",
          "data": {
            "image/png": "[encoded data removed]",
            "text/plain": [
              "<Figure size 432x288 with 2 Axes>"
            ]
          },
          "metadata": {
            "tags": [],
            "needs_background": "light"
          }
        }
      ]
    },
    {
      "cell_type": "code",
      "metadata": {
        "colab": {
          "base_uri": "https://localhost:8080/"
        },
        "id": "JjlkWKCxkEF_",
        "outputId": "d0f48a3c-412e-4ec8-fdc5-f5ff9c13a8c7"
      },
      "source": [
        "print('Accuracy: ',metrics.accuracy_score(y_test, y_pred))\n",
        "plt.show()"
      ],
      "execution_count": 96,
      "outputs": [
        {
          "output_type": "stream",
          "text": [
            "Accuracy:  0.8\n"
          ],
          "name": "stdout"
        }
      ]
    },
    {
      "cell_type": "code",
      "metadata": {
        "colab": {
          "base_uri": "https://localhost:8080/"
        },
        "id": "qC5YAI3Aka9H",
        "outputId": "7b89117e-dd10-4e7f-9ee6-45c18b16e5ab"
      },
      "source": [
        "prediction = clf.predict([[730,3.7,4,27]]) \n",
        "print ('Predicted Result: ', prediction)"
      ],
      "execution_count": 97,
      "outputs": [
        {
          "output_type": "stream",
          "text": [
            "Predicted Result:  ['Diterima']\n"
          ],
          "name": "stdout"
        }
      ]
    }
  ]
}